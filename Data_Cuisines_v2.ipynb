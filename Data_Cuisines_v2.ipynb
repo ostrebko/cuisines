{
 "cells": [
  {
   "cell_type": "code",
   "execution_count": 1,
   "metadata": {
    "colab": {},
    "colab_type": "code",
    "id": "owm-LEPDXter"
   },
   "outputs": [],
   "source": [
    "import pandas as pd\n",
    "import numpy as np\n",
    "import re\n",
    "from datetime import datetime, timedelta\n",
    "from sklearn.model_selection import train_test_split\n",
    "from sklearn.preprocessing import StandardScaler\n",
    "\n",
    "# Импортируем необходимые библиотеки для обучения:\n",
    "from sklearn.ensemble import RandomForestRegressor # инструмент для создания и обучения модели\n",
    "from sklearn import metrics # инструменты для оценки точности модели\n",
    "\n",
    "%matplotlib inline\n",
    "import matplotlib.pyplot as plt\n",
    "import seaborn as sns # библиотека для визуализации статистических данных\n",
    "\n",
    "# Указать путь размещения файлов main_task.csv, kaggle_task.csv, sample_submission.csv\n",
    "data_path = 'Data/'\n",
    "\n",
    "df_train=pd.read_csv(data_path+'main_task.csv')\n",
    "df_test=pd.read_csv(data_path+'kaggle_task.csv')\n",
    "sample_submission = pd.read_csv(data_path+'sample_submission.csv')"
   ]
  },
  {
   "cell_type": "raw",
   "metadata": {},
   "source": [
    "# Для расчетов в kaggle  \n",
    "# Input data files are available in the \"../input/\" directory.  \n",
    "# For example, running this (by clicking run or pressing Shift+Enter) will list all files under the input directory  \n",
    "\n",
    "import os  \n",
    "for dirname, _, filenames in os.walk('/kaggle/input'):  \n",
    "    for filename in filenames:  \n",
    "        print(os.path.join(dirname, filename))  \n",
    "\n",
    "# Any results you write to the current directory are saved as output.  \n",
    "\n",
    "DATA_DIR = '/kaggle/input/sf-dst-restaurant-rating/'  \n",
    "df_train = pd.read_csv(DATA_DIR+'/main_task.csv')  \n",
    "df_test = pd.read_csv(DATA_DIR+'kaggle_task.csv')  \n",
    "sample_submission = pd.read_csv(DATA_DIR+'/sample_submission.csv')  "
   ]
  },
  {
   "cell_type": "code",
   "execution_count": 2,
   "metadata": {},
   "outputs": [],
   "source": [
    "# зафиксируем RANDOM_SEED для воспроизводимости\n",
    "RANDOM_SEED = 42"
   ]
  },
  {
   "cell_type": "markdown",
   "metadata": {},
   "source": [
    "## Data analysis:"
   ]
  },
  {
   "cell_type": "code",
   "execution_count": 3,
   "metadata": {},
   "outputs": [
    {
     "name": "stdout",
     "output_type": "stream",
     "text": [
      "<class 'pandas.core.frame.DataFrame'>\n",
      "RangeIndex: 40000 entries, 0 to 39999\n",
      "Data columns (total 10 columns):\n",
      " #   Column             Non-Null Count  Dtype  \n",
      "---  ------             --------------  -----  \n",
      " 0   Restaurant_id      40000 non-null  object \n",
      " 1   City               40000 non-null  object \n",
      " 2   Cuisine Style      30717 non-null  object \n",
      " 3   Ranking            40000 non-null  float64\n",
      " 4   Rating             40000 non-null  float64\n",
      " 5   Price Range        26114 non-null  object \n",
      " 6   Number of Reviews  37457 non-null  float64\n",
      " 7   Reviews            40000 non-null  object \n",
      " 8   URL_TA             40000 non-null  object \n",
      " 9   ID_TA              40000 non-null  object \n",
      "dtypes: float64(3), object(7)\n",
      "memory usage: 3.1+ MB\n"
     ]
    }
   ],
   "source": [
    "df_train.info()"
   ]
  },
  {
   "cell_type": "code",
   "execution_count": 4,
   "metadata": {
    "colab": {
     "base_uri": "https://localhost:8080/",
     "height": 310
    },
    "colab_type": "code",
    "executionInfo": {
     "elapsed": 977,
     "status": "ok",
     "timestamp": 1579002982909,
     "user": {
      "displayName": "Oleg Strebkov",
      "photoUrl": "https://lh4.googleusercontent.com/-2Rtviui1TKI/AAAAAAAAAAI/AAAAAAAAB2o/P3DleCVhowg/s64/photo.jpg",
      "userId": "12295069352902457105"
     },
     "user_tz": -180
    },
    "id": "t_ovLqEfa3bx",
    "outputId": "5cb86c68-6fb1-460e-86cc-67b6734d0070"
   },
   "outputs": [
    {
     "data": {
      "text/html": [
       "<div>\n",
       "<style scoped>\n",
       "    .dataframe tbody tr th:only-of-type {\n",
       "        vertical-align: middle;\n",
       "    }\n",
       "\n",
       "    .dataframe tbody tr th {\n",
       "        vertical-align: top;\n",
       "    }\n",
       "\n",
       "    .dataframe thead th {\n",
       "        text-align: right;\n",
       "    }\n",
       "</style>\n",
       "<table border=\"1\" class=\"dataframe\">\n",
       "  <thead>\n",
       "    <tr style=\"text-align: right;\">\n",
       "      <th></th>\n",
       "      <th>Restaurant_id</th>\n",
       "      <th>City</th>\n",
       "      <th>Cuisine Style</th>\n",
       "      <th>Ranking</th>\n",
       "      <th>Rating</th>\n",
       "      <th>Price Range</th>\n",
       "      <th>Number of Reviews</th>\n",
       "      <th>Reviews</th>\n",
       "      <th>URL_TA</th>\n",
       "      <th>ID_TA</th>\n",
       "    </tr>\n",
       "  </thead>\n",
       "  <tbody>\n",
       "    <tr>\n",
       "      <th>0</th>\n",
       "      <td>id_5569</td>\n",
       "      <td>Paris</td>\n",
       "      <td>['European', 'French', 'International']</td>\n",
       "      <td>5570.0</td>\n",
       "      <td>3.5</td>\n",
       "      <td>$$ - $$$</td>\n",
       "      <td>194.0</td>\n",
       "      <td>[['Good food at your doorstep', 'A good hotel ...</td>\n",
       "      <td>/Restaurant_Review-g187147-d1912643-Reviews-R_...</td>\n",
       "      <td>d1912643</td>\n",
       "    </tr>\n",
       "    <tr>\n",
       "      <th>1</th>\n",
       "      <td>id_1535</td>\n",
       "      <td>Stockholm</td>\n",
       "      <td>NaN</td>\n",
       "      <td>1537.0</td>\n",
       "      <td>4.0</td>\n",
       "      <td>NaN</td>\n",
       "      <td>10.0</td>\n",
       "      <td>[['Unique cuisine', 'Delicious Nepalese food']...</td>\n",
       "      <td>/Restaurant_Review-g189852-d7992032-Reviews-Bu...</td>\n",
       "      <td>d7992032</td>\n",
       "    </tr>\n",
       "    <tr>\n",
       "      <th>2</th>\n",
       "      <td>id_352</td>\n",
       "      <td>London</td>\n",
       "      <td>['Japanese', 'Sushi', 'Asian', 'Grill', 'Veget...</td>\n",
       "      <td>353.0</td>\n",
       "      <td>4.5</td>\n",
       "      <td>$$$$</td>\n",
       "      <td>688.0</td>\n",
       "      <td>[['Catch up with friends', 'Not exceptional'],...</td>\n",
       "      <td>/Restaurant_Review-g186338-d8632781-Reviews-RO...</td>\n",
       "      <td>d8632781</td>\n",
       "    </tr>\n",
       "    <tr>\n",
       "      <th>3</th>\n",
       "      <td>id_3456</td>\n",
       "      <td>Berlin</td>\n",
       "      <td>NaN</td>\n",
       "      <td>3458.0</td>\n",
       "      <td>5.0</td>\n",
       "      <td>NaN</td>\n",
       "      <td>3.0</td>\n",
       "      <td>[[], []]</td>\n",
       "      <td>/Restaurant_Review-g187323-d1358776-Reviews-Es...</td>\n",
       "      <td>d1358776</td>\n",
       "    </tr>\n",
       "    <tr>\n",
       "      <th>4</th>\n",
       "      <td>id_615</td>\n",
       "      <td>Munich</td>\n",
       "      <td>['German', 'Central European', 'Vegetarian Fri...</td>\n",
       "      <td>621.0</td>\n",
       "      <td>4.0</td>\n",
       "      <td>$$ - $$$</td>\n",
       "      <td>84.0</td>\n",
       "      <td>[['Best place to try a Bavarian food', 'Nice b...</td>\n",
       "      <td>/Restaurant_Review-g187309-d6864963-Reviews-Au...</td>\n",
       "      <td>d6864963</td>\n",
       "    </tr>\n",
       "  </tbody>\n",
       "</table>\n",
       "</div>"
      ],
      "text/plain": [
       "  Restaurant_id       City                                      Cuisine Style  \\\n",
       "0       id_5569      Paris            ['European', 'French', 'International']   \n",
       "1       id_1535  Stockholm                                                NaN   \n",
       "2        id_352     London  ['Japanese', 'Sushi', 'Asian', 'Grill', 'Veget...   \n",
       "3       id_3456     Berlin                                                NaN   \n",
       "4        id_615     Munich  ['German', 'Central European', 'Vegetarian Fri...   \n",
       "\n",
       "   Ranking  Rating Price Range  Number of Reviews  \\\n",
       "0   5570.0     3.5    $$ - $$$              194.0   \n",
       "1   1537.0     4.0         NaN               10.0   \n",
       "2    353.0     4.5        $$$$              688.0   \n",
       "3   3458.0     5.0         NaN                3.0   \n",
       "4    621.0     4.0    $$ - $$$               84.0   \n",
       "\n",
       "                                             Reviews  \\\n",
       "0  [['Good food at your doorstep', 'A good hotel ...   \n",
       "1  [['Unique cuisine', 'Delicious Nepalese food']...   \n",
       "2  [['Catch up with friends', 'Not exceptional'],...   \n",
       "3                                           [[], []]   \n",
       "4  [['Best place to try a Bavarian food', 'Nice b...   \n",
       "\n",
       "                                              URL_TA     ID_TA  \n",
       "0  /Restaurant_Review-g187147-d1912643-Reviews-R_...  d1912643  \n",
       "1  /Restaurant_Review-g189852-d7992032-Reviews-Bu...  d7992032  \n",
       "2  /Restaurant_Review-g186338-d8632781-Reviews-RO...  d8632781  \n",
       "3  /Restaurant_Review-g187323-d1358776-Reviews-Es...  d1358776  \n",
       "4  /Restaurant_Review-g187309-d6864963-Reviews-Au...  d6864963  "
      ]
     },
     "execution_count": 4,
     "metadata": {},
     "output_type": "execute_result"
    }
   ],
   "source": [
    "df_train.head()"
   ]
  },
  {
   "cell_type": "code",
   "execution_count": 5,
   "metadata": {},
   "outputs": [
    {
     "name": "stdout",
     "output_type": "stream",
     "text": [
      "<class 'pandas.core.frame.DataFrame'>\n",
      "RangeIndex: 10000 entries, 0 to 9999\n",
      "Data columns (total 9 columns):\n",
      " #   Column             Non-Null Count  Dtype  \n",
      "---  ------             --------------  -----  \n",
      " 0   Restaurant_id      10000 non-null  object \n",
      " 1   City               10000 non-null  object \n",
      " 2   Cuisine Style      7693 non-null   object \n",
      " 3   Ranking            10000 non-null  float64\n",
      " 4   Price Range        6525 non-null   object \n",
      " 5   Number of Reviews  9343 non-null   float64\n",
      " 6   Reviews            9998 non-null   object \n",
      " 7   URL_TA             10000 non-null  object \n",
      " 8   ID_TA              10000 non-null  object \n",
      "dtypes: float64(2), object(7)\n",
      "memory usage: 703.2+ KB\n"
     ]
    }
   ],
   "source": [
    "df_test.info()"
   ]
  },
  {
   "cell_type": "code",
   "execution_count": 6,
   "metadata": {},
   "outputs": [
    {
     "data": {
      "text/html": [
       "<div>\n",
       "<style scoped>\n",
       "    .dataframe tbody tr th:only-of-type {\n",
       "        vertical-align: middle;\n",
       "    }\n",
       "\n",
       "    .dataframe tbody tr th {\n",
       "        vertical-align: top;\n",
       "    }\n",
       "\n",
       "    .dataframe thead th {\n",
       "        text-align: right;\n",
       "    }\n",
       "</style>\n",
       "<table border=\"1\" class=\"dataframe\">\n",
       "  <thead>\n",
       "    <tr style=\"text-align: right;\">\n",
       "      <th></th>\n",
       "      <th>Restaurant_id</th>\n",
       "      <th>City</th>\n",
       "      <th>Cuisine Style</th>\n",
       "      <th>Ranking</th>\n",
       "      <th>Price Range</th>\n",
       "      <th>Number of Reviews</th>\n",
       "      <th>Reviews</th>\n",
       "      <th>URL_TA</th>\n",
       "      <th>ID_TA</th>\n",
       "    </tr>\n",
       "  </thead>\n",
       "  <tbody>\n",
       "    <tr>\n",
       "      <th>0</th>\n",
       "      <td>id_0</td>\n",
       "      <td>Paris</td>\n",
       "      <td>['Bar', 'Pub']</td>\n",
       "      <td>12963.0</td>\n",
       "      <td>$$ - $$$</td>\n",
       "      <td>4.0</td>\n",
       "      <td>[[], []]</td>\n",
       "      <td>/Restaurant_Review-g187147-d10746918-Reviews-L...</td>\n",
       "      <td>d10746918</td>\n",
       "    </tr>\n",
       "    <tr>\n",
       "      <th>1</th>\n",
       "      <td>id_1</td>\n",
       "      <td>Helsinki</td>\n",
       "      <td>['European', 'Scandinavian', 'Gluten Free Opti...</td>\n",
       "      <td>106.0</td>\n",
       "      <td>$$ - $$$</td>\n",
       "      <td>97.0</td>\n",
       "      <td>[['Very good reviews!', 'Fine dining in Hakani...</td>\n",
       "      <td>/Restaurant_Review-g189934-d6674944-Reviews-Ra...</td>\n",
       "      <td>d6674944</td>\n",
       "    </tr>\n",
       "    <tr>\n",
       "      <th>2</th>\n",
       "      <td>id_2</td>\n",
       "      <td>Edinburgh</td>\n",
       "      <td>['Vegetarian Friendly']</td>\n",
       "      <td>810.0</td>\n",
       "      <td>$$ - $$$</td>\n",
       "      <td>28.0</td>\n",
       "      <td>[['Better than the Links', 'Ivy Black'], ['12/...</td>\n",
       "      <td>/Restaurant_Review-g186525-d13129638-Reviews-B...</td>\n",
       "      <td>d13129638</td>\n",
       "    </tr>\n",
       "    <tr>\n",
       "      <th>3</th>\n",
       "      <td>id_3</td>\n",
       "      <td>London</td>\n",
       "      <td>['Italian', 'Mediterranean', 'European', 'Vege...</td>\n",
       "      <td>1669.0</td>\n",
       "      <td>$$$$</td>\n",
       "      <td>202.0</td>\n",
       "      <td>[['Most exquisite', 'Delicious and authentic']...</td>\n",
       "      <td>/Restaurant_Review-g186338-d680417-Reviews-Qui...</td>\n",
       "      <td>d680417</td>\n",
       "    </tr>\n",
       "    <tr>\n",
       "      <th>4</th>\n",
       "      <td>id_4</td>\n",
       "      <td>Bratislava</td>\n",
       "      <td>['Italian', 'Mediterranean', 'European', 'Seaf...</td>\n",
       "      <td>37.0</td>\n",
       "      <td>$$$$</td>\n",
       "      <td>162.0</td>\n",
       "      <td>[['Always the best in bratislava', 'Very good ...</td>\n",
       "      <td>/Restaurant_Review-g274924-d1112354-Reviews-Ma...</td>\n",
       "      <td>d1112354</td>\n",
       "    </tr>\n",
       "  </tbody>\n",
       "</table>\n",
       "</div>"
      ],
      "text/plain": [
       "  Restaurant_id        City  \\\n",
       "0          id_0       Paris   \n",
       "1          id_1    Helsinki   \n",
       "2          id_2   Edinburgh   \n",
       "3          id_3      London   \n",
       "4          id_4  Bratislava   \n",
       "\n",
       "                                       Cuisine Style  Ranking Price Range  \\\n",
       "0                                     ['Bar', 'Pub']  12963.0    $$ - $$$   \n",
       "1  ['European', 'Scandinavian', 'Gluten Free Opti...    106.0    $$ - $$$   \n",
       "2                            ['Vegetarian Friendly']    810.0    $$ - $$$   \n",
       "3  ['Italian', 'Mediterranean', 'European', 'Vege...   1669.0        $$$$   \n",
       "4  ['Italian', 'Mediterranean', 'European', 'Seaf...     37.0        $$$$   \n",
       "\n",
       "   Number of Reviews                                            Reviews  \\\n",
       "0                4.0                                           [[], []]   \n",
       "1               97.0  [['Very good reviews!', 'Fine dining in Hakani...   \n",
       "2               28.0  [['Better than the Links', 'Ivy Black'], ['12/...   \n",
       "3              202.0  [['Most exquisite', 'Delicious and authentic']...   \n",
       "4              162.0  [['Always the best in bratislava', 'Very good ...   \n",
       "\n",
       "                                              URL_TA      ID_TA  \n",
       "0  /Restaurant_Review-g187147-d10746918-Reviews-L...  d10746918  \n",
       "1  /Restaurant_Review-g189934-d6674944-Reviews-Ra...   d6674944  \n",
       "2  /Restaurant_Review-g186525-d13129638-Reviews-B...  d13129638  \n",
       "3  /Restaurant_Review-g186338-d680417-Reviews-Qui...    d680417  \n",
       "4  /Restaurant_Review-g274924-d1112354-Reviews-Ma...   d1112354  "
      ]
     },
     "execution_count": 6,
     "metadata": {},
     "output_type": "execute_result"
    }
   ],
   "source": [
    "df_test.head()"
   ]
  },
  {
   "cell_type": "code",
   "execution_count": 7,
   "metadata": {},
   "outputs": [
    {
     "name": "stdout",
     "output_type": "stream",
     "text": [
      "<class 'pandas.core.frame.DataFrame'>\n",
      "RangeIndex: 10000 entries, 0 to 9999\n",
      "Data columns (total 2 columns):\n",
      " #   Column         Non-Null Count  Dtype  \n",
      "---  ------         --------------  -----  \n",
      " 0   Restaurant_id  10000 non-null  object \n",
      " 1   Rating         10000 non-null  float64\n",
      "dtypes: float64(1), object(1)\n",
      "memory usage: 156.4+ KB\n"
     ]
    }
   ],
   "source": [
    "sample_submission.info()"
   ]
  },
  {
   "cell_type": "code",
   "execution_count": 8,
   "metadata": {},
   "outputs": [
    {
     "data": {
      "text/html": [
       "<div>\n",
       "<style scoped>\n",
       "    .dataframe tbody tr th:only-of-type {\n",
       "        vertical-align: middle;\n",
       "    }\n",
       "\n",
       "    .dataframe tbody tr th {\n",
       "        vertical-align: top;\n",
       "    }\n",
       "\n",
       "    .dataframe thead th {\n",
       "        text-align: right;\n",
       "    }\n",
       "</style>\n",
       "<table border=\"1\" class=\"dataframe\">\n",
       "  <thead>\n",
       "    <tr style=\"text-align: right;\">\n",
       "      <th></th>\n",
       "      <th>Restaurant_id</th>\n",
       "      <th>Rating</th>\n",
       "    </tr>\n",
       "  </thead>\n",
       "  <tbody>\n",
       "    <tr>\n",
       "      <th>0</th>\n",
       "      <td>id_0</td>\n",
       "      <td>2.0</td>\n",
       "    </tr>\n",
       "    <tr>\n",
       "      <th>1</th>\n",
       "      <td>id_1</td>\n",
       "      <td>2.5</td>\n",
       "    </tr>\n",
       "    <tr>\n",
       "      <th>2</th>\n",
       "      <td>id_2</td>\n",
       "      <td>4.0</td>\n",
       "    </tr>\n",
       "    <tr>\n",
       "      <th>3</th>\n",
       "      <td>id_3</td>\n",
       "      <td>1.0</td>\n",
       "    </tr>\n",
       "    <tr>\n",
       "      <th>4</th>\n",
       "      <td>id_4</td>\n",
       "      <td>4.0</td>\n",
       "    </tr>\n",
       "  </tbody>\n",
       "</table>\n",
       "</div>"
      ],
      "text/plain": [
       "  Restaurant_id  Rating\n",
       "0          id_0     2.0\n",
       "1          id_1     2.5\n",
       "2          id_2     4.0\n",
       "3          id_3     1.0\n",
       "4          id_4     4.0"
      ]
     },
     "execution_count": 8,
     "metadata": {},
     "output_type": "execute_result"
    }
   ],
   "source": [
    "sample_submission.head()"
   ]
  },
  {
   "cell_type": "code",
   "execution_count": 9,
   "metadata": {},
   "outputs": [],
   "source": [
    "# Для корректной (единой) обработки признаков объединяем трейн и тест в один датасет\n",
    "df_train['sample'] = 1 # помечаем трейн\n",
    "df_test['sample'] = 0 # помечаем тест\n",
    "df_test['Rating'] = 0 # в тесте нет значения Rating - предсказывается, поэтому заполняем нулями\n",
    "\n",
    "data = df_test.append(df_train, sort=False).reset_index(drop=True) # объединяем"
   ]
  },
  {
   "cell_type": "code",
   "execution_count": 10,
   "metadata": {},
   "outputs": [
    {
     "data": {
      "text/html": [
       "<div>\n",
       "<style scoped>\n",
       "    .dataframe tbody tr th:only-of-type {\n",
       "        vertical-align: middle;\n",
       "    }\n",
       "\n",
       "    .dataframe tbody tr th {\n",
       "        vertical-align: top;\n",
       "    }\n",
       "\n",
       "    .dataframe thead th {\n",
       "        text-align: right;\n",
       "    }\n",
       "</style>\n",
       "<table border=\"1\" class=\"dataframe\">\n",
       "  <thead>\n",
       "    <tr style=\"text-align: right;\">\n",
       "      <th></th>\n",
       "      <th>Rating</th>\n",
       "    </tr>\n",
       "  </thead>\n",
       "  <tbody>\n",
       "    <tr>\n",
       "      <th>0</th>\n",
       "      <td>3.5</td>\n",
       "    </tr>\n",
       "    <tr>\n",
       "      <th>1</th>\n",
       "      <td>4.0</td>\n",
       "    </tr>\n",
       "    <tr>\n",
       "      <th>2</th>\n",
       "      <td>4.5</td>\n",
       "    </tr>\n",
       "    <tr>\n",
       "      <th>3</th>\n",
       "      <td>5.0</td>\n",
       "    </tr>\n",
       "    <tr>\n",
       "      <th>4</th>\n",
       "      <td>4.0</td>\n",
       "    </tr>\n",
       "    <tr>\n",
       "      <th>...</th>\n",
       "      <td>...</td>\n",
       "    </tr>\n",
       "    <tr>\n",
       "      <th>39995</th>\n",
       "      <td>0.0</td>\n",
       "    </tr>\n",
       "    <tr>\n",
       "      <th>39996</th>\n",
       "      <td>0.0</td>\n",
       "    </tr>\n",
       "    <tr>\n",
       "      <th>39997</th>\n",
       "      <td>0.0</td>\n",
       "    </tr>\n",
       "    <tr>\n",
       "      <th>39998</th>\n",
       "      <td>0.0</td>\n",
       "    </tr>\n",
       "    <tr>\n",
       "      <th>39999</th>\n",
       "      <td>0.0</td>\n",
       "    </tr>\n",
       "  </tbody>\n",
       "</table>\n",
       "<p>40000 rows × 1 columns</p>\n",
       "</div>"
      ],
      "text/plain": [
       "       Rating\n",
       "0         3.5\n",
       "1         4.0\n",
       "2         4.5\n",
       "3         5.0\n",
       "4         4.0\n",
       "...       ...\n",
       "39995     0.0\n",
       "39996     0.0\n",
       "39997     0.0\n",
       "39998     0.0\n",
       "39999     0.0\n",
       "\n",
       "[40000 rows x 1 columns]"
      ]
     },
     "execution_count": 10,
     "metadata": {},
     "output_type": "execute_result"
    }
   ],
   "source": [
    "rating = pd.DataFrame(df_train['Rating'] + df_test['Rating'], columns = ['Rating']).fillna(0)\n",
    "rating"
   ]
  },
  {
   "cell_type": "code",
   "execution_count": 11,
   "metadata": {},
   "outputs": [
    {
     "name": "stdout",
     "output_type": "stream",
     "text": [
      "<class 'pandas.core.frame.DataFrame'>\n",
      "RangeIndex: 50000 entries, 0 to 49999\n",
      "Data columns (total 11 columns):\n",
      " #   Column             Non-Null Count  Dtype  \n",
      "---  ------             --------------  -----  \n",
      " 0   Restaurant_id      50000 non-null  object \n",
      " 1   City               50000 non-null  object \n",
      " 2   Cuisine Style      38410 non-null  object \n",
      " 3   Ranking            50000 non-null  float64\n",
      " 4   Price Range        32639 non-null  object \n",
      " 5   Number of Reviews  46800 non-null  float64\n",
      " 6   Reviews            49998 non-null  object \n",
      " 7   URL_TA             50000 non-null  object \n",
      " 8   ID_TA              50000 non-null  object \n",
      " 9   sample             50000 non-null  int64  \n",
      " 10  Rating             50000 non-null  float64\n",
      "dtypes: float64(3), int64(1), object(7)\n",
      "memory usage: 4.2+ MB\n"
     ]
    }
   ],
   "source": [
    "data.info()"
   ]
  },
  {
   "cell_type": "markdown",
   "metadata": {},
   "source": [
    "**Подробнее по признакам:**\n",
    "\n",
    "- City: Город  \n",
    "- Cuisine Style: Кухня  \n",
    "- Ranking: Ранг ресторана относительно других ресторанов в этом городе  \n",
    "- Price Range: Цены в ресторане в 3 категориях  \n",
    "- Number of Reviews: Количество отзывов  \n",
    "- Reviews: 2 последних отзыва и даты этих отзывов  \n",
    "- URL_TA: страница ресторана на 'www.tripadvisor.com'  \n",
    "- ID_TA: ID ресторана в TripAdvisor  \n",
    "- Rating: Рейтинг ресторана  "
   ]
  },
  {
   "cell_type": "code",
   "execution_count": 12,
   "metadata": {},
   "outputs": [
    {
     "data": {
      "text/html": [
       "<div>\n",
       "<style scoped>\n",
       "    .dataframe tbody tr th:only-of-type {\n",
       "        vertical-align: middle;\n",
       "    }\n",
       "\n",
       "    .dataframe tbody tr th {\n",
       "        vertical-align: top;\n",
       "    }\n",
       "\n",
       "    .dataframe thead th {\n",
       "        text-align: right;\n",
       "    }\n",
       "</style>\n",
       "<table border=\"1\" class=\"dataframe\">\n",
       "  <thead>\n",
       "    <tr style=\"text-align: right;\">\n",
       "      <th></th>\n",
       "      <th>Restaurant_id</th>\n",
       "      <th>City</th>\n",
       "      <th>Cuisine Style</th>\n",
       "      <th>Ranking</th>\n",
       "      <th>Price Range</th>\n",
       "      <th>Number of Reviews</th>\n",
       "      <th>Reviews</th>\n",
       "      <th>URL_TA</th>\n",
       "      <th>ID_TA</th>\n",
       "      <th>sample</th>\n",
       "      <th>Rating</th>\n",
       "    </tr>\n",
       "  </thead>\n",
       "  <tbody>\n",
       "    <tr>\n",
       "      <th>32693</th>\n",
       "      <td>id_1112</td>\n",
       "      <td>Oslo</td>\n",
       "      <td>['Chinese', 'Japanese', 'Sushi', 'Thai']</td>\n",
       "      <td>1115.0</td>\n",
       "      <td>NaN</td>\n",
       "      <td>3.0</td>\n",
       "      <td>[['Great sushi!', 'Budget sushi of ok quality,...</td>\n",
       "      <td>/Restaurant_Review-g190479-d6019894-Reviews-Ha...</td>\n",
       "      <td>d6019894</td>\n",
       "      <td>1</td>\n",
       "      <td>2.5</td>\n",
       "    </tr>\n",
       "    <tr>\n",
       "      <th>3888</th>\n",
       "      <td>id_3888</td>\n",
       "      <td>Vienna</td>\n",
       "      <td>NaN</td>\n",
       "      <td>2406.0</td>\n",
       "      <td>NaN</td>\n",
       "      <td>4.0</td>\n",
       "      <td>[[], []]</td>\n",
       "      <td>/Restaurant_Review-g190454-d10525289-Reviews-C...</td>\n",
       "      <td>d10525289</td>\n",
       "      <td>0</td>\n",
       "      <td>0.0</td>\n",
       "    </tr>\n",
       "    <tr>\n",
       "      <th>14682</th>\n",
       "      <td>id_2216</td>\n",
       "      <td>London</td>\n",
       "      <td>['Asian', 'Thai', 'Vegetarian Friendly', 'Vega...</td>\n",
       "      <td>2221.0</td>\n",
       "      <td>$$ - $$$</td>\n",
       "      <td>174.0</td>\n",
       "      <td>[['Amazing food', 'Wonderful place and food'],...</td>\n",
       "      <td>/Restaurant_Review-g186338-d11180601-Reviews-B...</td>\n",
       "      <td>d11180601</td>\n",
       "      <td>1</td>\n",
       "      <td>4.5</td>\n",
       "    </tr>\n",
       "    <tr>\n",
       "      <th>15117</th>\n",
       "      <td>id_2117</td>\n",
       "      <td>Prague</td>\n",
       "      <td>NaN</td>\n",
       "      <td>2121.0</td>\n",
       "      <td>NaN</td>\n",
       "      <td>4.0</td>\n",
       "      <td>[['This place is fantastic!', 'Little gem off ...</td>\n",
       "      <td>/Restaurant_Review-g274707-d12445889-Reviews-C...</td>\n",
       "      <td>d12445889</td>\n",
       "      <td>1</td>\n",
       "      <td>4.5</td>\n",
       "    </tr>\n",
       "    <tr>\n",
       "      <th>21463</th>\n",
       "      <td>id_4798</td>\n",
       "      <td>Milan</td>\n",
       "      <td>['Chinese', 'Japanese', 'Sushi', 'Asian', 'Fus...</td>\n",
       "      <td>4801.0</td>\n",
       "      <td>$</td>\n",
       "      <td>64.0</td>\n",
       "      <td>[['Good price, good food', 'Good sushi,long li...</td>\n",
       "      <td>/Restaurant_Review-g187849-d9563519-Reviews-As...</td>\n",
       "      <td>d9563519</td>\n",
       "      <td>1</td>\n",
       "      <td>3.5</td>\n",
       "    </tr>\n",
       "  </tbody>\n",
       "</table>\n",
       "</div>"
      ],
      "text/plain": [
       "      Restaurant_id    City  \\\n",
       "32693       id_1112    Oslo   \n",
       "3888        id_3888  Vienna   \n",
       "14682       id_2216  London   \n",
       "15117       id_2117  Prague   \n",
       "21463       id_4798   Milan   \n",
       "\n",
       "                                           Cuisine Style  Ranking Price Range  \\\n",
       "32693           ['Chinese', 'Japanese', 'Sushi', 'Thai']   1115.0         NaN   \n",
       "3888                                                 NaN   2406.0         NaN   \n",
       "14682  ['Asian', 'Thai', 'Vegetarian Friendly', 'Vega...   2221.0    $$ - $$$   \n",
       "15117                                                NaN   2121.0         NaN   \n",
       "21463  ['Chinese', 'Japanese', 'Sushi', 'Asian', 'Fus...   4801.0           $   \n",
       "\n",
       "       Number of Reviews                                            Reviews  \\\n",
       "32693                3.0  [['Great sushi!', 'Budget sushi of ok quality,...   \n",
       "3888                 4.0                                           [[], []]   \n",
       "14682              174.0  [['Amazing food', 'Wonderful place and food'],...   \n",
       "15117                4.0  [['This place is fantastic!', 'Little gem off ...   \n",
       "21463               64.0  [['Good price, good food', 'Good sushi,long li...   \n",
       "\n",
       "                                                  URL_TA      ID_TA  sample  \\\n",
       "32693  /Restaurant_Review-g190479-d6019894-Reviews-Ha...   d6019894       1   \n",
       "3888   /Restaurant_Review-g190454-d10525289-Reviews-C...  d10525289       0   \n",
       "14682  /Restaurant_Review-g186338-d11180601-Reviews-B...  d11180601       1   \n",
       "15117  /Restaurant_Review-g274707-d12445889-Reviews-C...  d12445889       1   \n",
       "21463  /Restaurant_Review-g187849-d9563519-Reviews-As...   d9563519       1   \n",
       "\n",
       "       Rating  \n",
       "32693     2.5  \n",
       "3888      0.0  \n",
       "14682     4.5  \n",
       "15117     4.5  \n",
       "21463     3.5  "
      ]
     },
     "execution_count": 12,
     "metadata": {},
     "output_type": "execute_result"
    }
   ],
   "source": [
    "data.sample(5)"
   ]
  },
  {
   "cell_type": "code",
   "execution_count": 13,
   "metadata": {},
   "outputs": [
    {
     "data": {
      "text/plain": [
       "\"[['Very good reviews!', 'Fine dining in Hakaniemi'], ['12/05/2017', '10/29/2017']]\""
      ]
     },
     "execution_count": 13,
     "metadata": {},
     "output_type": "execute_result"
    }
   ],
   "source": [
    "data.Reviews[1]"
   ]
  },
  {
   "cell_type": "markdown",
   "metadata": {},
   "source": [
    "## 1. Обработка NaN"
   ]
  },
  {
   "cell_type": "markdown",
   "metadata": {},
   "source": [
    "Отсутствие информации может быть важным признаком, поэтому перед обработкой NAN лучше вынести информацию о наличии пропуска, как отдельный признак"
   ]
  },
  {
   "cell_type": "markdown",
   "metadata": {},
   "source": [
    "### 1.1. Столбец 'Number of Reviews'"
   ]
  },
  {
   "cell_type": "code",
   "execution_count": 14,
   "metadata": {},
   "outputs": [],
   "source": [
    "# Выносим информацию о наличии пропуска, как отдельный признак\n",
    "data['Numb_of_Rev_isNAN'] = pd.isna(data['Number of Reviews']).astype('uint8')"
   ]
  },
  {
   "cell_type": "code",
   "execution_count": 15,
   "metadata": {},
   "outputs": [
    {
     "data": {
      "text/plain": [
       "46800"
      ]
     },
     "execution_count": 15,
     "metadata": {},
     "output_type": "execute_result"
    }
   ],
   "source": [
    "len(data[data['Numb_of_Rev_isNAN'] == 0])"
   ]
  },
  {
   "cell_type": "code",
   "execution_count": 16,
   "metadata": {},
   "outputs": [
    {
     "data": {
      "text/plain": [
       "3200"
      ]
     },
     "execution_count": 16,
     "metadata": {},
     "output_type": "execute_result"
    }
   ],
   "source": [
    "len(data[data['Numb_of_Rev_isNAN'] == 1])"
   ]
  },
  {
   "cell_type": "code",
   "execution_count": 17,
   "metadata": {
    "scrolled": true
   },
   "outputs": [],
   "source": [
    "# Заполняем пропуски средним по городу\n",
    "rew_mean = np.round(data.groupby(by = 'City')['Number of Reviews'].mean(),0)\n",
    "for city in data.City.unique():\n",
    "    data.loc[(data['City'] == city)&(data['Numb_of_Rev_isNAN']==1),['Number of Reviews']] = rew_mean[city]"
   ]
  },
  {
   "cell_type": "markdown",
   "metadata": {},
   "source": [
    "### 1.2. Столбец 'Cuisine Style'"
   ]
  },
  {
   "cell_type": "code",
   "execution_count": 18,
   "metadata": {},
   "outputs": [],
   "source": [
    "# Выносим информацию о наличии пропуска, как отдельный признак\n",
    "data['Cuisine_Style_isNAN'] = pd.isna(data['Cuisine Style']).astype('uint8')"
   ]
  },
  {
   "cell_type": "code",
   "execution_count": 19,
   "metadata": {},
   "outputs": [
    {
     "data": {
      "text/plain": [
       "38410"
      ]
     },
     "execution_count": 19,
     "metadata": {},
     "output_type": "execute_result"
    }
   ],
   "source": [
    "len(data[data['Cuisine_Style_isNAN'] == 0])"
   ]
  },
  {
   "cell_type": "code",
   "execution_count": 20,
   "metadata": {},
   "outputs": [
    {
     "data": {
      "text/plain": [
       "11590"
      ]
     },
     "execution_count": 20,
     "metadata": {},
     "output_type": "execute_result"
    }
   ],
   "source": [
    "len(data[data['Cuisine_Style_isNAN'] == 1])\n",
    "# np.sum(data['Cuisine Style'].isnull())"
   ]
  },
  {
   "cell_type": "code",
   "execution_count": 21,
   "metadata": {},
   "outputs": [],
   "source": [
    "# Приводим к единому стилю в столбце - NaN заполняем \"['Some']\", для последующей единой обработки столбца\n",
    "data['Cuisine Style'].fillna(\"['Some']\", inplace = True, axis = 0)"
   ]
  },
  {
   "cell_type": "code",
   "execution_count": 22,
   "metadata": {},
   "outputs": [
    {
     "data": {
      "text/plain": [
       "str"
      ]
     },
     "execution_count": 22,
     "metadata": {},
     "output_type": "execute_result"
    }
   ],
   "source": [
    "type(data['Cuisine Style'][0])"
   ]
  },
  {
   "cell_type": "code",
   "execution_count": 23,
   "metadata": {},
   "outputs": [],
   "source": [
    "# Функция для иного заполнения (возможно в некоторых случаях этот способ будет лучше)  \n",
    "#def fill_na_list(item, str_title = 'Some'):  \n",
    "#    if type(item) == float:  \n",
    "#        return str([str_title])  \n",
    "#    else:  \n",
    "#        return item  \n",
    "#data['Cuisine Style'] = data['Cuisine Style'].apply(fill_na_list)  \n",
    "\n",
    "\n",
    "#data.head(10)"
   ]
  },
  {
   "cell_type": "markdown",
   "metadata": {},
   "source": [
    "### 1.3. Столбец 'Price Range'"
   ]
  },
  {
   "cell_type": "code",
   "execution_count": 24,
   "metadata": {},
   "outputs": [],
   "source": [
    "# Выносим информацию о наличии пропуска, как отдельный признак\n",
    "data['Price_Range_isNAN'] = pd.isna(data['Price Range']).astype('uint8')"
   ]
  },
  {
   "cell_type": "code",
   "execution_count": 25,
   "metadata": {},
   "outputs": [
    {
     "data": {
      "text/plain": [
       "32639"
      ]
     },
     "execution_count": 25,
     "metadata": {},
     "output_type": "execute_result"
    }
   ],
   "source": [
    "len(data[data['Price_Range_isNAN'] == 0])"
   ]
  },
  {
   "cell_type": "code",
   "execution_count": 26,
   "metadata": {},
   "outputs": [
    {
     "data": {
      "text/plain": [
       "17361"
      ]
     },
     "execution_count": 26,
     "metadata": {},
     "output_type": "execute_result"
    }
   ],
   "source": [
    "len(data[data['Price_Range_isNAN'] == 1])"
   ]
  },
  {
   "cell_type": "code",
   "execution_count": 27,
   "metadata": {},
   "outputs": [],
   "source": [
    "# Делаем столбец по ценовым диапазонам\n",
    "def price_range(price):\n",
    "    if type(price) == float: # если NaN, то считаем, что диапазон отдельный\n",
    "        return 1\n",
    "    elif price == '$':\n",
    "        return 2\n",
    "    elif price == '$$ - $$$':\n",
    "        return 3\n",
    "    elif price == '$$$$':\n",
    "        return 4\n",
    "data['Price Range'] = data['Price Range'].apply(price_range)"
   ]
  },
  {
   "cell_type": "markdown",
   "metadata": {},
   "source": [
    "### 1.4. Столбец 'Reviews'"
   ]
  },
  {
   "cell_type": "code",
   "execution_count": 28,
   "metadata": {},
   "outputs": [
    {
     "data": {
      "text/html": [
       "<div>\n",
       "<style scoped>\n",
       "    .dataframe tbody tr th:only-of-type {\n",
       "        vertical-align: middle;\n",
       "    }\n",
       "\n",
       "    .dataframe tbody tr th {\n",
       "        vertical-align: top;\n",
       "    }\n",
       "\n",
       "    .dataframe thead th {\n",
       "        text-align: right;\n",
       "    }\n",
       "</style>\n",
       "<table border=\"1\" class=\"dataframe\">\n",
       "  <thead>\n",
       "    <tr style=\"text-align: right;\">\n",
       "      <th></th>\n",
       "      <th>Restaurant_id</th>\n",
       "      <th>City</th>\n",
       "      <th>Cuisine Style</th>\n",
       "      <th>Ranking</th>\n",
       "      <th>Price Range</th>\n",
       "      <th>Number of Reviews</th>\n",
       "      <th>Reviews</th>\n",
       "      <th>URL_TA</th>\n",
       "      <th>ID_TA</th>\n",
       "      <th>sample</th>\n",
       "      <th>Rating</th>\n",
       "      <th>Numb_of_Rev_isNAN</th>\n",
       "      <th>Cuisine_Style_isNAN</th>\n",
       "      <th>Price_Range_isNAN</th>\n",
       "    </tr>\n",
       "  </thead>\n",
       "  <tbody>\n",
       "    <tr>\n",
       "      <th>0</th>\n",
       "      <td>id_0</td>\n",
       "      <td>Paris</td>\n",
       "      <td>['Bar', 'Pub']</td>\n",
       "      <td>12963.0</td>\n",
       "      <td>3</td>\n",
       "      <td>4.0</td>\n",
       "      <td>[[], []]</td>\n",
       "      <td>/Restaurant_Review-g187147-d10746918-Reviews-L...</td>\n",
       "      <td>d10746918</td>\n",
       "      <td>0</td>\n",
       "      <td>0.0</td>\n",
       "      <td>0</td>\n",
       "      <td>0</td>\n",
       "      <td>0</td>\n",
       "    </tr>\n",
       "    <tr>\n",
       "      <th>6</th>\n",
       "      <td>id_6</td>\n",
       "      <td>Lisbon</td>\n",
       "      <td>['European', 'Portuguese']</td>\n",
       "      <td>3704.0</td>\n",
       "      <td>2</td>\n",
       "      <td>2.0</td>\n",
       "      <td>[[], []]</td>\n",
       "      <td>/Restaurant_Review-g189158-d8758873-Reviews-Li...</td>\n",
       "      <td>d8758873</td>\n",
       "      <td>0</td>\n",
       "      <td>0.0</td>\n",
       "      <td>0</td>\n",
       "      <td>0</td>\n",
       "      <td>0</td>\n",
       "    </tr>\n",
       "    <tr>\n",
       "      <th>7</th>\n",
       "      <td>id_7</td>\n",
       "      <td>Budapest</td>\n",
       "      <td>['Some']</td>\n",
       "      <td>2330.0</td>\n",
       "      <td>1</td>\n",
       "      <td>159.0</td>\n",
       "      <td>[[], []]</td>\n",
       "      <td>/Restaurant_Review-g274887-d8286886-Reviews-Be...</td>\n",
       "      <td>d8286886</td>\n",
       "      <td>0</td>\n",
       "      <td>0.0</td>\n",
       "      <td>1</td>\n",
       "      <td>1</td>\n",
       "      <td>1</td>\n",
       "    </tr>\n",
       "    <tr>\n",
       "      <th>18</th>\n",
       "      <td>id_18</td>\n",
       "      <td>Vienna</td>\n",
       "      <td>['Some']</td>\n",
       "      <td>3360.0</td>\n",
       "      <td>1</td>\n",
       "      <td>2.0</td>\n",
       "      <td>[[], []]</td>\n",
       "      <td>/Restaurant_Review-g190454-d8435085-Reviews-An...</td>\n",
       "      <td>d8435085</td>\n",
       "      <td>0</td>\n",
       "      <td>0.0</td>\n",
       "      <td>0</td>\n",
       "      <td>1</td>\n",
       "      <td>1</td>\n",
       "    </tr>\n",
       "    <tr>\n",
       "      <th>20</th>\n",
       "      <td>id_20</td>\n",
       "      <td>Barcelona</td>\n",
       "      <td>['Some']</td>\n",
       "      <td>6085.0</td>\n",
       "      <td>1</td>\n",
       "      <td>8.0</td>\n",
       "      <td>[[], []]</td>\n",
       "      <td>/Restaurant_Review-g187497-d8334752-Reviews-Re...</td>\n",
       "      <td>d8334752</td>\n",
       "      <td>0</td>\n",
       "      <td>0.0</td>\n",
       "      <td>0</td>\n",
       "      <td>1</td>\n",
       "      <td>1</td>\n",
       "    </tr>\n",
       "  </tbody>\n",
       "</table>\n",
       "</div>"
      ],
      "text/plain": [
       "   Restaurant_id       City               Cuisine Style  Ranking  Price Range  \\\n",
       "0           id_0      Paris              ['Bar', 'Pub']  12963.0            3   \n",
       "6           id_6     Lisbon  ['European', 'Portuguese']   3704.0            2   \n",
       "7           id_7   Budapest                    ['Some']   2330.0            1   \n",
       "18         id_18     Vienna                    ['Some']   3360.0            1   \n",
       "20         id_20  Barcelona                    ['Some']   6085.0            1   \n",
       "\n",
       "    Number of Reviews   Reviews  \\\n",
       "0                 4.0  [[], []]   \n",
       "6                 2.0  [[], []]   \n",
       "7               159.0  [[], []]   \n",
       "18                2.0  [[], []]   \n",
       "20                8.0  [[], []]   \n",
       "\n",
       "                                               URL_TA      ID_TA  sample  \\\n",
       "0   /Restaurant_Review-g187147-d10746918-Reviews-L...  d10746918       0   \n",
       "6   /Restaurant_Review-g189158-d8758873-Reviews-Li...   d8758873       0   \n",
       "7   /Restaurant_Review-g274887-d8286886-Reviews-Be...   d8286886       0   \n",
       "18  /Restaurant_Review-g190454-d8435085-Reviews-An...   d8435085       0   \n",
       "20  /Restaurant_Review-g187497-d8334752-Reviews-Re...   d8334752       0   \n",
       "\n",
       "    Rating  Numb_of_Rev_isNAN  Cuisine_Style_isNAN  Price_Range_isNAN  \n",
       "0      0.0                  0                    0                  0  \n",
       "6      0.0                  0                    0                  0  \n",
       "7      0.0                  1                    1                  1  \n",
       "18     0.0                  0                    1                  1  \n",
       "20     0.0                  0                    1                  1  "
      ]
     },
     "execution_count": 28,
     "metadata": {},
     "output_type": "execute_result"
    }
   ],
   "source": [
    "# Так как в столбце всего 2 NaN, то просто можно удалить эти строки (1 строка в train, 1 строка в test),  \n",
    "# а можно заполнить ненулевыми, но пустыми данными:\n",
    "def temp_func(rew):\n",
    "    if type(rew) == float:\n",
    "        return 0\n",
    "    else:\n",
    "        return len(rew)\n",
    "# Смотрим данные с ненулевыми, но пустыми отзывами - есть только символы без букв '[[], []]'\n",
    "data[data['Reviews'].apply(temp_func) < 10].head()"
   ]
  },
  {
   "cell_type": "code",
   "execution_count": 29,
   "metadata": {},
   "outputs": [
    {
     "data": {
      "text/plain": [
       "8112"
      ]
     },
     "execution_count": 29,
     "metadata": {},
     "output_type": "execute_result"
    }
   ],
   "source": [
    "# Таких строк с отсутствующими отзывами '[[], []]' - 8112: \n",
    "data[data['Reviews'].apply(temp_func) < 10]['Reviews'].count()"
   ]
  },
  {
   "cell_type": "code",
   "execution_count": 30,
   "metadata": {},
   "outputs": [],
   "source": [
    "# Заполняем строки с NaN данными '[[], []]'\n",
    "data['Reviews'].fillna(data['Reviews'][0], inplace = True, axis = 0)"
   ]
  },
  {
   "cell_type": "code",
   "execution_count": 31,
   "metadata": {},
   "outputs": [
    {
     "name": "stdout",
     "output_type": "stream",
     "text": [
      "<class 'pandas.core.frame.DataFrame'>\n",
      "RangeIndex: 50000 entries, 0 to 49999\n",
      "Data columns (total 14 columns):\n",
      " #   Column               Non-Null Count  Dtype  \n",
      "---  ------               --------------  -----  \n",
      " 0   Restaurant_id        50000 non-null  object \n",
      " 1   City                 50000 non-null  object \n",
      " 2   Cuisine Style        50000 non-null  object \n",
      " 3   Ranking              50000 non-null  float64\n",
      " 4   Price Range          50000 non-null  int64  \n",
      " 5   Number of Reviews    50000 non-null  float64\n",
      " 6   Reviews              50000 non-null  object \n",
      " 7   URL_TA               50000 non-null  object \n",
      " 8   ID_TA                50000 non-null  object \n",
      " 9   sample               50000 non-null  int64  \n",
      " 10  Rating               50000 non-null  float64\n",
      " 11  Numb_of_Rev_isNAN    50000 non-null  uint8  \n",
      " 12  Cuisine_Style_isNAN  50000 non-null  uint8  \n",
      " 13  Price_Range_isNAN    50000 non-null  uint8  \n",
      "dtypes: float64(3), int64(2), object(6), uint8(3)\n",
      "memory usage: 4.3+ MB\n"
     ]
    }
   ],
   "source": [
    "data.info()"
   ]
  },
  {
   "cell_type": "markdown",
   "metadata": {},
   "source": [
    "### 1.5. Итого - заменили все строки с NaN данными."
   ]
  },
  {
   "cell_type": "markdown",
   "metadata": {},
   "source": [
    "## 2. Feature engineering"
   ]
  },
  {
   "cell_type": "markdown",
   "metadata": {},
   "source": [
    "### 2.1 Cuisine numb"
   ]
  },
  {
   "cell_type": "code",
   "execution_count": 32,
   "metadata": {},
   "outputs": [],
   "source": [
    "# Делаем столбец количества разных кухонь\n",
    "def cuisine_num(cuisine_srting):\n",
    "    cui_list = []\n",
    "    if type(cuisine_srting) == float: # если NaN, то считаем, что кухня одна\n",
    "        return 1\n",
    "    elif ', ' in cuisine_srting:\n",
    "        for item in list(cuisine_srting[1:-1].split(', ')):\n",
    "            cui_list.append(item[1:-1])\n",
    "        return len(cui_list)\n",
    "    else:\n",
    "        cui_list.append(cuisine_srting[2:-2])\n",
    "        return len(cui_list)\n",
    "data['Cuisine_numb'] = data['Cuisine Style'].apply(cuisine_num)"
   ]
  },
  {
   "cell_type": "markdown",
   "metadata": {},
   "source": [
    "### 2.2 Strange numb"
   ]
  },
  {
   "cell_type": "code",
   "execution_count": 33,
   "metadata": {},
   "outputs": [
    {
     "data": {
      "text/plain": [
       "'/Restaurant_Review-g187147-d10746918-Reviews-Le_Perchoir-Paris_Ile_de_France.html'"
      ]
     },
     "execution_count": 33,
     "metadata": {},
     "output_type": "execute_result"
    }
   ],
   "source": [
    "# В столбце URL_TA есть 2 числа, котоые можно попробовать использовать в качестве фич\n",
    "data['URL_TA'][0]"
   ]
  },
  {
   "cell_type": "code",
   "execution_count": 34,
   "metadata": {},
   "outputs": [],
   "source": [
    "# Создаем функции для выбора данных чисел из строки\n",
    "def strange_numb_1(url_str):\n",
    "    pattern = re.compile('d\\d+')\n",
    "    numb = int(pattern.findall(url_str)[0][1:])\n",
    "    return numb \n",
    "    \n",
    "def strange_numb_2(url_str):\n",
    "    pattern = re.compile('g\\d+')\n",
    "    numb = int(pattern.findall(url_str)[0][1:])\n",
    "    return numb     \n",
    "#strange_numb_1('/Restaurant_Review-g187147-d1912643-Reviews-R_Yves-Paris_Ile_de_France.html')"
   ]
  },
  {
   "cell_type": "code",
   "execution_count": 35,
   "metadata": {},
   "outputs": [],
   "source": [
    "data['URL_numb_1'] = data['URL_TA'].apply(strange_numb_1)\n",
    "data['URL_numb_2'] = data['URL_TA'].apply(strange_numb_2)"
   ]
  },
  {
   "cell_type": "code",
   "execution_count": 36,
   "metadata": {},
   "outputs": [
    {
     "data": {
      "text/html": [
       "<div>\n",
       "<style scoped>\n",
       "    .dataframe tbody tr th:only-of-type {\n",
       "        vertical-align: middle;\n",
       "    }\n",
       "\n",
       "    .dataframe tbody tr th {\n",
       "        vertical-align: top;\n",
       "    }\n",
       "\n",
       "    .dataframe thead th {\n",
       "        text-align: right;\n",
       "    }\n",
       "</style>\n",
       "<table border=\"1\" class=\"dataframe\">\n",
       "  <thead>\n",
       "    <tr style=\"text-align: right;\">\n",
       "      <th></th>\n",
       "      <th>Restaurant_id</th>\n",
       "      <th>City</th>\n",
       "      <th>Cuisine Style</th>\n",
       "      <th>Ranking</th>\n",
       "      <th>Price Range</th>\n",
       "      <th>Number of Reviews</th>\n",
       "      <th>Reviews</th>\n",
       "      <th>URL_TA</th>\n",
       "      <th>ID_TA</th>\n",
       "      <th>sample</th>\n",
       "      <th>Rating</th>\n",
       "      <th>Numb_of_Rev_isNAN</th>\n",
       "      <th>Cuisine_Style_isNAN</th>\n",
       "      <th>Price_Range_isNAN</th>\n",
       "      <th>Cuisine_numb</th>\n",
       "      <th>URL_numb_1</th>\n",
       "      <th>URL_numb_2</th>\n",
       "    </tr>\n",
       "  </thead>\n",
       "  <tbody>\n",
       "    <tr>\n",
       "      <th>0</th>\n",
       "      <td>id_0</td>\n",
       "      <td>Paris</td>\n",
       "      <td>['Bar', 'Pub']</td>\n",
       "      <td>12963.0</td>\n",
       "      <td>3</td>\n",
       "      <td>4.0</td>\n",
       "      <td>[[], []]</td>\n",
       "      <td>/Restaurant_Review-g187147-d10746918-Reviews-L...</td>\n",
       "      <td>d10746918</td>\n",
       "      <td>0</td>\n",
       "      <td>0.0</td>\n",
       "      <td>0</td>\n",
       "      <td>0</td>\n",
       "      <td>0</td>\n",
       "      <td>2</td>\n",
       "      <td>10746918</td>\n",
       "      <td>187147</td>\n",
       "    </tr>\n",
       "    <tr>\n",
       "      <th>1</th>\n",
       "      <td>id_1</td>\n",
       "      <td>Helsinki</td>\n",
       "      <td>['European', 'Scandinavian', 'Gluten Free Opti...</td>\n",
       "      <td>106.0</td>\n",
       "      <td>3</td>\n",
       "      <td>97.0</td>\n",
       "      <td>[['Very good reviews!', 'Fine dining in Hakani...</td>\n",
       "      <td>/Restaurant_Review-g189934-d6674944-Reviews-Ra...</td>\n",
       "      <td>d6674944</td>\n",
       "      <td>0</td>\n",
       "      <td>0.0</td>\n",
       "      <td>0</td>\n",
       "      <td>0</td>\n",
       "      <td>0</td>\n",
       "      <td>5</td>\n",
       "      <td>6674944</td>\n",
       "      <td>189934</td>\n",
       "    </tr>\n",
       "    <tr>\n",
       "      <th>2</th>\n",
       "      <td>id_2</td>\n",
       "      <td>Edinburgh</td>\n",
       "      <td>['Vegetarian Friendly']</td>\n",
       "      <td>810.0</td>\n",
       "      <td>3</td>\n",
       "      <td>28.0</td>\n",
       "      <td>[['Better than the Links', 'Ivy Black'], ['12/...</td>\n",
       "      <td>/Restaurant_Review-g186525-d13129638-Reviews-B...</td>\n",
       "      <td>d13129638</td>\n",
       "      <td>0</td>\n",
       "      <td>0.0</td>\n",
       "      <td>0</td>\n",
       "      <td>0</td>\n",
       "      <td>0</td>\n",
       "      <td>1</td>\n",
       "      <td>13129638</td>\n",
       "      <td>186525</td>\n",
       "    </tr>\n",
       "    <tr>\n",
       "      <th>3</th>\n",
       "      <td>id_3</td>\n",
       "      <td>London</td>\n",
       "      <td>['Italian', 'Mediterranean', 'European', 'Vege...</td>\n",
       "      <td>1669.0</td>\n",
       "      <td>4</td>\n",
       "      <td>202.0</td>\n",
       "      <td>[['Most exquisite', 'Delicious and authentic']...</td>\n",
       "      <td>/Restaurant_Review-g186338-d680417-Reviews-Qui...</td>\n",
       "      <td>d680417</td>\n",
       "      <td>0</td>\n",
       "      <td>0.0</td>\n",
       "      <td>0</td>\n",
       "      <td>0</td>\n",
       "      <td>0</td>\n",
       "      <td>5</td>\n",
       "      <td>680417</td>\n",
       "      <td>186338</td>\n",
       "    </tr>\n",
       "    <tr>\n",
       "      <th>4</th>\n",
       "      <td>id_4</td>\n",
       "      <td>Bratislava</td>\n",
       "      <td>['Italian', 'Mediterranean', 'European', 'Seaf...</td>\n",
       "      <td>37.0</td>\n",
       "      <td>4</td>\n",
       "      <td>162.0</td>\n",
       "      <td>[['Always the best in bratislava', 'Very good ...</td>\n",
       "      <td>/Restaurant_Review-g274924-d1112354-Reviews-Ma...</td>\n",
       "      <td>d1112354</td>\n",
       "      <td>0</td>\n",
       "      <td>0.0</td>\n",
       "      <td>0</td>\n",
       "      <td>0</td>\n",
       "      <td>0</td>\n",
       "      <td>6</td>\n",
       "      <td>1112354</td>\n",
       "      <td>274924</td>\n",
       "    </tr>\n",
       "  </tbody>\n",
       "</table>\n",
       "</div>"
      ],
      "text/plain": [
       "  Restaurant_id        City  \\\n",
       "0          id_0       Paris   \n",
       "1          id_1    Helsinki   \n",
       "2          id_2   Edinburgh   \n",
       "3          id_3      London   \n",
       "4          id_4  Bratislava   \n",
       "\n",
       "                                       Cuisine Style  Ranking  Price Range  \\\n",
       "0                                     ['Bar', 'Pub']  12963.0            3   \n",
       "1  ['European', 'Scandinavian', 'Gluten Free Opti...    106.0            3   \n",
       "2                            ['Vegetarian Friendly']    810.0            3   \n",
       "3  ['Italian', 'Mediterranean', 'European', 'Vege...   1669.0            4   \n",
       "4  ['Italian', 'Mediterranean', 'European', 'Seaf...     37.0            4   \n",
       "\n",
       "   Number of Reviews                                            Reviews  \\\n",
       "0                4.0                                           [[], []]   \n",
       "1               97.0  [['Very good reviews!', 'Fine dining in Hakani...   \n",
       "2               28.0  [['Better than the Links', 'Ivy Black'], ['12/...   \n",
       "3              202.0  [['Most exquisite', 'Delicious and authentic']...   \n",
       "4              162.0  [['Always the best in bratislava', 'Very good ...   \n",
       "\n",
       "                                              URL_TA      ID_TA  sample  \\\n",
       "0  /Restaurant_Review-g187147-d10746918-Reviews-L...  d10746918       0   \n",
       "1  /Restaurant_Review-g189934-d6674944-Reviews-Ra...   d6674944       0   \n",
       "2  /Restaurant_Review-g186525-d13129638-Reviews-B...  d13129638       0   \n",
       "3  /Restaurant_Review-g186338-d680417-Reviews-Qui...    d680417       0   \n",
       "4  /Restaurant_Review-g274924-d1112354-Reviews-Ma...   d1112354       0   \n",
       "\n",
       "   Rating  Numb_of_Rev_isNAN  Cuisine_Style_isNAN  Price_Range_isNAN  \\\n",
       "0     0.0                  0                    0                  0   \n",
       "1     0.0                  0                    0                  0   \n",
       "2     0.0                  0                    0                  0   \n",
       "3     0.0                  0                    0                  0   \n",
       "4     0.0                  0                    0                  0   \n",
       "\n",
       "   Cuisine_numb  URL_numb_1  URL_numb_2  \n",
       "0             2    10746918      187147  \n",
       "1             5     6674944      189934  \n",
       "2             1    13129638      186525  \n",
       "3             5      680417      186338  \n",
       "4             6     1112354      274924  "
      ]
     },
     "execution_count": 36,
     "metadata": {},
     "output_type": "execute_result"
    }
   ],
   "source": [
    "data.head()"
   ]
  },
  {
   "cell_type": "markdown",
   "metadata": {
    "colab": {},
    "colab_type": "code",
    "id": "k5hNXE8ObB1n"
   },
   "source": [
    "### 2.3 Days between the last comments"
   ]
  },
  {
   "cell_type": "code",
   "execution_count": 37,
   "metadata": {
    "colab": {},
    "colab_type": "code",
    "id": "vz4N3Gh2bVzS"
   },
   "outputs": [],
   "source": [
    "# Делаем расчет количества дней между комментариями (даты содержатся в столбце Reviews)\n",
    "def max_delta_days(data_str):\n",
    "    pattern = re.compile('\\d\\d\\W\\d\\d\\W\\d\\d\\d\\d') #паттерн для даты формата xx/xx/xxxx, xx.xx.xxxx\n",
    "        \n",
    "    list_dates = pattern.findall(data_str) # создаем лист выбранных дат\n",
    "    \n",
    "    if len(list_dates) == 0 or len(list_dates) == 1: # Если дат нет или одна - возвращаем 0\n",
    "        return 0 \n",
    "    else:\n",
    "        max_diff = 0\n",
    "        for i in range(0, len(list_dates)-1): # в данном случае создана функция для случая, если дат больше 2-х\n",
    "            if '.' in list_dates[i]: # для формата dd.mm.yyyy \n",
    "                date_dt_1 = datetime.strptime(list_dates[i], '%d.%m.%Y')\n",
    "            elif '/' in list_dates[i]: \n",
    "                date_dt_1 = datetime.strptime(list_dates[i], '%m/%d/%Y')\n",
    "            for j in range(1, len(list_dates)):\n",
    "                if '.' in list_dates[j]: # для формата dd.mm.yyyy \n",
    "                    date_dt_2 = datetime.strptime(list_dates[j], '%d.%m.%Y')\n",
    "                elif '/' in list_dates[j]: \n",
    "                    date_dt_2 = datetime.strptime(list_dates[j], '%m/%d/%Y')\n",
    "                delta = abs(date_dt_1 - date_dt_2)\n",
    "                if delta.days > max_diff:\n",
    "                    max_diff = delta.days\n",
    "        return max_diff\n",
    "\n",
    "data['max_day_rev'] = data['Reviews'].apply(max_delta_days)"
   ]
  },
  {
   "cell_type": "code",
   "execution_count": 38,
   "metadata": {},
   "outputs": [],
   "source": [
    "# Заменяем данные без комментариев (где выше был получен 0) максимальным числом + 1 день  \n",
    "# Предположение: считаем, что, если даты наиболее близки, значит ресторан может получить большую оценку\n",
    "data.loc[data['max_day_rev'] == 0, ['max_day_rev']] = data['max_day_rev'].max() + 1\n",
    "# data.head()"
   ]
  },
  {
   "cell_type": "markdown",
   "metadata": {},
   "source": [
    "### 2.4 Days to now"
   ]
  },
  {
   "cell_type": "code",
   "execution_count": 39,
   "metadata": {},
   "outputs": [],
   "source": [
    "## Создаем функцию для определения даты от последнего комментария до текущей даты"
   ]
  },
  {
   "cell_type": "code",
   "execution_count": 40,
   "metadata": {},
   "outputs": [
    {
     "data": {
      "text/plain": [
       "datetime.datetime(2018, 2, 26, 0, 0)"
      ]
     },
     "execution_count": 40,
     "metadata": {},
     "output_type": "execute_result"
    }
   ],
   "source": [
    "# Смотрим поздний комментарий\n",
    "def temp_max_data(data_str):\n",
    "    pattern = re.compile('\\d\\d\\W\\d\\d\\W\\d\\d\\d\\d') #паттерн для даты формата xx/xx/xxxx, xx.xx.xxxx\n",
    "    list_dates = pattern.findall(data_str) # создаем лист выбранных дат\n",
    "    if len(list_dates) == 0: \n",
    "        return datetime.strptime('01/01/1000', '%m/%d/%Y') \n",
    "        \n",
    "    else:\n",
    "        date_list = []\n",
    "        for i in range(0, len(list_dates)):\n",
    "            if '.' in list_dates[i]: # для формата dd.mm.yyyy \n",
    "                date_dt = datetime.strptime(list_dates[i], '%d.%m.%Y')\n",
    "            elif '/' in list_dates[i]: \n",
    "                date_dt = datetime.strptime(list_dates[i], '%m/%d/%Y')\n",
    "            date_list.append(date_dt)\n",
    "        return np.max(date_list)\n",
    "\n",
    "data['Reviews'].apply(temp_max_data).max()"
   ]
  },
  {
   "cell_type": "code",
   "execution_count": 41,
   "metadata": {},
   "outputs": [
    {
     "data": {
      "text/plain": [
       "Timestamp('2004-04-21 00:00:00')"
      ]
     },
     "execution_count": 41,
     "metadata": {},
     "output_type": "execute_result"
    }
   ],
   "source": [
    "# Смотрим ранний комментарий\n",
    "def temp_min_data(data_str):\n",
    "    pattern = re.compile('\\d\\d\\W\\d\\d\\W\\d\\d\\d\\d') #паттерн для даты формата xx/xx/xxxx, xx.xx.xxxx\n",
    "    list_dates = pattern.findall(data_str) # создаем лист выбранных дат\n",
    "    if len(list_dates) == 0: \n",
    "        return datetime.strptime('01/01/2020', '%m/%d/%Y') \n",
    "        \n",
    "    else:\n",
    "        date_list = []\n",
    "        for i in range(0, len(list_dates)):\n",
    "            if '.' in list_dates[i]: # для формата dd.mm.yyyy \n",
    "                date_dt = datetime.strptime(list_dates[i], '%d.%m.%Y')\n",
    "            elif '/' in list_dates[i]: \n",
    "                date_dt = datetime.strptime(list_dates[i], '%m/%d/%Y')\n",
    "            date_list.append(date_dt)\n",
    "        return np.min(date_list)\n",
    "\n",
    "data['Reviews'].apply(temp_min_data).min()"
   ]
  },
  {
   "cell_type": "code",
   "execution_count": 42,
   "metadata": {},
   "outputs": [],
   "source": [
    "# функция для определения даты от последнего комментария до текущей даты\n",
    "def days_to_now(data_str):\n",
    "    pattern = re.compile('\\d\\d\\W\\d\\d\\W\\d\\d\\d\\d') #паттерн для даты формата xx/xx/xxxx, xx.xx.xxxx\n",
    "    max_date = datetime.strptime('04/20/2004', '%m/%d/%Y') # ставим на 1 день раньше, чем самая ранняя дата\n",
    "    date_today = datetime.strptime('09/01/2020', '%m/%d/%Y')\n",
    "    list_dates = pattern.findall(data_str) # создаем лист выбранных дат\n",
    "    \n",
    "    if len(list_dates) == 0: \n",
    "        delta = (date_today - max_date) \n",
    "        \n",
    "    else:\n",
    "        for i in range(0, len(list_dates)):\n",
    "            if '.' in list_dates[i]: # для формата dd.mm.yyyy \n",
    "                date_dt = datetime.strptime(list_dates[i], '%d.%m.%Y')\n",
    "            elif '/' in list_dates[i]: \n",
    "                date_dt = datetime.strptime(list_dates[i], '%m/%d/%Y')\n",
    "            if date_dt > max_date:\n",
    "                max_date = date_dt\n",
    "        delta = (date_today - max_date)\n",
    "    return delta.days\n",
    "\n",
    "data['days_to_now'] = data['Reviews'].apply(days_to_now)"
   ]
  },
  {
   "cell_type": "code",
   "execution_count": 43,
   "metadata": {
    "colab": {
     "base_uri": "https://localhost:8080/",
     "height": 345
    },
    "colab_type": "code",
    "executionInfo": {
     "elapsed": 740,
     "status": "ok",
     "timestamp": 1579003024895,
     "user": {
      "displayName": "Oleg Strebkov",
      "photoUrl": "https://lh4.googleusercontent.com/-2Rtviui1TKI/AAAAAAAAAAI/AAAAAAAAB2o/P3DleCVhowg/s64/photo.jpg",
      "userId": "12295069352902457105"
     },
     "user_tz": -180
    },
    "id": "nI5BojC6bZVi",
    "outputId": "2679583e-cef6-4575-b691-5b39deb8688b"
   },
   "outputs": [
    {
     "data": {
      "text/html": [
       "<div>\n",
       "<style scoped>\n",
       "    .dataframe tbody tr th:only-of-type {\n",
       "        vertical-align: middle;\n",
       "    }\n",
       "\n",
       "    .dataframe tbody tr th {\n",
       "        vertical-align: top;\n",
       "    }\n",
       "\n",
       "    .dataframe thead th {\n",
       "        text-align: right;\n",
       "    }\n",
       "</style>\n",
       "<table border=\"1\" class=\"dataframe\">\n",
       "  <thead>\n",
       "    <tr style=\"text-align: right;\">\n",
       "      <th></th>\n",
       "      <th>Restaurant_id</th>\n",
       "      <th>City</th>\n",
       "      <th>Cuisine Style</th>\n",
       "      <th>Ranking</th>\n",
       "      <th>Price Range</th>\n",
       "      <th>Number of Reviews</th>\n",
       "      <th>Reviews</th>\n",
       "      <th>URL_TA</th>\n",
       "      <th>ID_TA</th>\n",
       "      <th>sample</th>\n",
       "      <th>Rating</th>\n",
       "      <th>Numb_of_Rev_isNAN</th>\n",
       "      <th>Cuisine_Style_isNAN</th>\n",
       "      <th>Price_Range_isNAN</th>\n",
       "      <th>Cuisine_numb</th>\n",
       "      <th>URL_numb_1</th>\n",
       "      <th>URL_numb_2</th>\n",
       "      <th>max_day_rev</th>\n",
       "      <th>days_to_now</th>\n",
       "    </tr>\n",
       "  </thead>\n",
       "  <tbody>\n",
       "    <tr>\n",
       "      <th>0</th>\n",
       "      <td>id_0</td>\n",
       "      <td>Paris</td>\n",
       "      <td>['Bar', 'Pub']</td>\n",
       "      <td>12963.0</td>\n",
       "      <td>3</td>\n",
       "      <td>4.0</td>\n",
       "      <td>[[], []]</td>\n",
       "      <td>/Restaurant_Review-g187147-d10746918-Reviews-L...</td>\n",
       "      <td>d10746918</td>\n",
       "      <td>0</td>\n",
       "      <td>0.0</td>\n",
       "      <td>0</td>\n",
       "      <td>0</td>\n",
       "      <td>0</td>\n",
       "      <td>2</td>\n",
       "      <td>10746918</td>\n",
       "      <td>187147</td>\n",
       "      <td>3297</td>\n",
       "      <td>5978</td>\n",
       "    </tr>\n",
       "    <tr>\n",
       "      <th>1</th>\n",
       "      <td>id_1</td>\n",
       "      <td>Helsinki</td>\n",
       "      <td>['European', 'Scandinavian', 'Gluten Free Opti...</td>\n",
       "      <td>106.0</td>\n",
       "      <td>3</td>\n",
       "      <td>97.0</td>\n",
       "      <td>[['Very good reviews!', 'Fine dining in Hakani...</td>\n",
       "      <td>/Restaurant_Review-g189934-d6674944-Reviews-Ra...</td>\n",
       "      <td>d6674944</td>\n",
       "      <td>0</td>\n",
       "      <td>0.0</td>\n",
       "      <td>0</td>\n",
       "      <td>0</td>\n",
       "      <td>0</td>\n",
       "      <td>5</td>\n",
       "      <td>6674944</td>\n",
       "      <td>189934</td>\n",
       "      <td>37</td>\n",
       "      <td>1001</td>\n",
       "    </tr>\n",
       "    <tr>\n",
       "      <th>2</th>\n",
       "      <td>id_2</td>\n",
       "      <td>Edinburgh</td>\n",
       "      <td>['Vegetarian Friendly']</td>\n",
       "      <td>810.0</td>\n",
       "      <td>3</td>\n",
       "      <td>28.0</td>\n",
       "      <td>[['Better than the Links', 'Ivy Black'], ['12/...</td>\n",
       "      <td>/Restaurant_Review-g186525-d13129638-Reviews-B...</td>\n",
       "      <td>d13129638</td>\n",
       "      <td>0</td>\n",
       "      <td>0.0</td>\n",
       "      <td>0</td>\n",
       "      <td>0</td>\n",
       "      <td>0</td>\n",
       "      <td>1</td>\n",
       "      <td>13129638</td>\n",
       "      <td>186525</td>\n",
       "      <td>22</td>\n",
       "      <td>978</td>\n",
       "    </tr>\n",
       "    <tr>\n",
       "      <th>3</th>\n",
       "      <td>id_3</td>\n",
       "      <td>London</td>\n",
       "      <td>['Italian', 'Mediterranean', 'European', 'Vege...</td>\n",
       "      <td>1669.0</td>\n",
       "      <td>4</td>\n",
       "      <td>202.0</td>\n",
       "      <td>[['Most exquisite', 'Delicious and authentic']...</td>\n",
       "      <td>/Restaurant_Review-g186338-d680417-Reviews-Qui...</td>\n",
       "      <td>d680417</td>\n",
       "      <td>0</td>\n",
       "      <td>0.0</td>\n",
       "      <td>0</td>\n",
       "      <td>0</td>\n",
       "      <td>0</td>\n",
       "      <td>5</td>\n",
       "      <td>680417</td>\n",
       "      <td>186338</td>\n",
       "      <td>14</td>\n",
       "      <td>1000</td>\n",
       "    </tr>\n",
       "    <tr>\n",
       "      <th>4</th>\n",
       "      <td>id_4</td>\n",
       "      <td>Bratislava</td>\n",
       "      <td>['Italian', 'Mediterranean', 'European', 'Seaf...</td>\n",
       "      <td>37.0</td>\n",
       "      <td>4</td>\n",
       "      <td>162.0</td>\n",
       "      <td>[['Always the best in bratislava', 'Very good ...</td>\n",
       "      <td>/Restaurant_Review-g274924-d1112354-Reviews-Ma...</td>\n",
       "      <td>d1112354</td>\n",
       "      <td>0</td>\n",
       "      <td>0.0</td>\n",
       "      <td>0</td>\n",
       "      <td>0</td>\n",
       "      <td>0</td>\n",
       "      <td>6</td>\n",
       "      <td>1112354</td>\n",
       "      <td>274924</td>\n",
       "      <td>15</td>\n",
       "      <td>936</td>\n",
       "    </tr>\n",
       "  </tbody>\n",
       "</table>\n",
       "</div>"
      ],
      "text/plain": [
       "  Restaurant_id        City  \\\n",
       "0          id_0       Paris   \n",
       "1          id_1    Helsinki   \n",
       "2          id_2   Edinburgh   \n",
       "3          id_3      London   \n",
       "4          id_4  Bratislava   \n",
       "\n",
       "                                       Cuisine Style  Ranking  Price Range  \\\n",
       "0                                     ['Bar', 'Pub']  12963.0            3   \n",
       "1  ['European', 'Scandinavian', 'Gluten Free Opti...    106.0            3   \n",
       "2                            ['Vegetarian Friendly']    810.0            3   \n",
       "3  ['Italian', 'Mediterranean', 'European', 'Vege...   1669.0            4   \n",
       "4  ['Italian', 'Mediterranean', 'European', 'Seaf...     37.0            4   \n",
       "\n",
       "   Number of Reviews                                            Reviews  \\\n",
       "0                4.0                                           [[], []]   \n",
       "1               97.0  [['Very good reviews!', 'Fine dining in Hakani...   \n",
       "2               28.0  [['Better than the Links', 'Ivy Black'], ['12/...   \n",
       "3              202.0  [['Most exquisite', 'Delicious and authentic']...   \n",
       "4              162.0  [['Always the best in bratislava', 'Very good ...   \n",
       "\n",
       "                                              URL_TA      ID_TA  sample  \\\n",
       "0  /Restaurant_Review-g187147-d10746918-Reviews-L...  d10746918       0   \n",
       "1  /Restaurant_Review-g189934-d6674944-Reviews-Ra...   d6674944       0   \n",
       "2  /Restaurant_Review-g186525-d13129638-Reviews-B...  d13129638       0   \n",
       "3  /Restaurant_Review-g186338-d680417-Reviews-Qui...    d680417       0   \n",
       "4  /Restaurant_Review-g274924-d1112354-Reviews-Ma...   d1112354       0   \n",
       "\n",
       "   Rating  Numb_of_Rev_isNAN  Cuisine_Style_isNAN  Price_Range_isNAN  \\\n",
       "0     0.0                  0                    0                  0   \n",
       "1     0.0                  0                    0                  0   \n",
       "2     0.0                  0                    0                  0   \n",
       "3     0.0                  0                    0                  0   \n",
       "4     0.0                  0                    0                  0   \n",
       "\n",
       "   Cuisine_numb  URL_numb_1  URL_numb_2  max_day_rev  days_to_now  \n",
       "0             2    10746918      187147         3297         5978  \n",
       "1             5     6674944      189934           37         1001  \n",
       "2             1    13129638      186525           22          978  \n",
       "3             5      680417      186338           14         1000  \n",
       "4             6     1112354      274924           15          936  "
      ]
     },
     "execution_count": 43,
     "metadata": {},
     "output_type": "execute_result"
    }
   ],
   "source": [
    "data.head() # смотрим промежуточный получившийся датасет"
   ]
  },
  {
   "cell_type": "markdown",
   "metadata": {},
   "source": [
    "### 2.5 Доп данные - из отчета Demographia World Urban Areas 15 th Annual Edition: 201904"
   ]
  },
  {
   "cell_type": "code",
   "execution_count": 44,
   "metadata": {},
   "outputs": [
    {
     "data": {
      "text/plain": [
       "array(['Paris', 'Helsinki', 'Edinburgh', 'London', 'Bratislava', 'Lisbon',\n",
       "       'Budapest', 'Stockholm', 'Rome', 'Milan', 'Munich', 'Hamburg',\n",
       "       'Prague', 'Vienna', 'Dublin', 'Barcelona', 'Brussels', 'Madrid',\n",
       "       'Oslo', 'Amsterdam', 'Berlin', 'Lyon', 'Athens', 'Warsaw',\n",
       "       'Oporto', 'Krakow', 'Copenhagen', 'Luxembourg', 'Zurich', 'Geneva',\n",
       "       'Ljubljana'], dtype=object)"
      ]
     },
     "execution_count": 44,
     "metadata": {},
     "output_type": "execute_result"
    }
   ],
   "source": [
    "data['City'].unique()"
   ]
  },
  {
   "cell_type": "code",
   "execution_count": 45,
   "metadata": {},
   "outputs": [],
   "source": [
    "# Население городов из отчета\n",
    "city_population_dict ={'Paris':10960000, 'Stockholm':1585000, 'London':10840000, 'Berlin':4060000, \n",
    "                       'Munich':2060000, 'Oporto':1480000, 'Milan':5295000, 'Bratislava':410000, \n",
    "                       'Vienna':1850000, 'Rome':3995000, 'Barcelona':4810000, 'Madrid':6345000, \n",
    "                       'Dublin':1215000, 'Brussels':2135000, 'Zurich':805000, 'Warsaw':2300000, \n",
    "                       'Budapest':2520000, 'Copenhagen':1310000, 'Amsterdam':1670000, 'Lyon':1680000, \n",
    "                       'Hamburg':2050000, 'Lisbon':2705000, 'Prague':1375000, 'Oslo':1020000, \n",
    "                       'Helsinki':1270000, 'Edinburgh':525000, 'Geneva':620000, 'Ljubljana':225000, \n",
    "                       'Athens':3495000, 'Luxembourg':100000, 'Krakow':760000}"
   ]
  },
  {
   "cell_type": "code",
   "execution_count": 46,
   "metadata": {},
   "outputs": [],
   "source": [
    "# Площадь городов из отчета\n",
    "city_area_dict ={'Paris':2845, 'Stockholm':414, 'London':1738, 'Berlin':1347, \n",
    "                 'Munich':466, 'Oporto':777, 'Milan':15001891, 'Bratislava':119, \n",
    "                 'Vienna':337, 'Rome':1114, 'Barcelona':1075, 'Madrid':1360, \n",
    "                 'Dublin':318, 'Brussels':803, 'Zurich':246, 'Warsaw':544, \n",
    "                 'Budapest':971, 'Copenhagen':616, 'Amsterdam':505, 'Lyon':1178, \n",
    "                 'Hamburg':777, 'Lisbon':958, 'Prague':298, 'Oslo':290, \n",
    "                 'Helsinki':641, 'Edinburgh':120, 'Geneva':181, 'Ljubljana':54, \n",
    "                 'Athens':583, 'Luxembourg':62, 'Krakow':220}"
   ]
  },
  {
   "cell_type": "code",
   "execution_count": 47,
   "metadata": {},
   "outputs": [],
   "source": [
    "def population(city_name):\n",
    "    return city_population_dict[city_name]"
   ]
  },
  {
   "cell_type": "code",
   "execution_count": 48,
   "metadata": {},
   "outputs": [],
   "source": [
    "def area(city_name):\n",
    "    return city_area_dict[city_name]"
   ]
  },
  {
   "cell_type": "code",
   "execution_count": 49,
   "metadata": {},
   "outputs": [],
   "source": [
    "data['Population'] = data['City'].apply(population)\n",
    "data['Area'] = data['City'].apply(area)\n",
    "#data.head()"
   ]
  },
  {
   "cell_type": "markdown",
   "metadata": {},
   "source": [
    "### Примечание: Для автоматизации процесса - доработать cпособ извлечения информации из PDF отчета"
   ]
  },
  {
   "cell_type": "markdown",
   "metadata": {},
   "source": [
    "### 2.6 One hot encoding City"
   ]
  },
  {
   "cell_type": "code",
   "execution_count": 50,
   "metadata": {},
   "outputs": [],
   "source": [
    "# для One-Hot Encoding в pandas есть готовая функция - get_dummies. Особенно радует параметр dummy_na\n",
    "data = pd.get_dummies(data, columns=[ 'City',], dummy_na=True)"
   ]
  },
  {
   "cell_type": "raw",
   "metadata": {},
   "source": [
    "data.head()"
   ]
  },
  {
   "cell_type": "markdown",
   "metadata": {},
   "source": [
    "### 2.7 One hot encoding Cuisine Style"
   ]
  },
  {
   "cell_type": "code",
   "execution_count": 51,
   "metadata": {},
   "outputs": [],
   "source": [
    "# One hot encoding для столбца, содержащего листы данных (Найдено на просторах интернета)  \n",
    "# Сильно увеличивает количество параметров, но точность повышается не сильно  \n",
    "# data = pd.concat([data, pd.get_dummies(data['Cuisine Style'].apply(pd.Series).stack()).sum(level=0)], axis=1)  \n",
    "# The logicпризнака of this is:  \n",
    "#.apply(Series) converts the series of lists to a dataframe  \n",
    "#.stack() puts everything in one column again (creating a multi-level index)  \n",
    "# pd.get_dummies( ) creating the dummies  \n",
    "#.sum(level=0) for remerging the different rows that should be one row (by summing up the second level, only keeping the original level (level=0))  "
   ]
  },
  {
   "cell_type": "code",
   "execution_count": 52,
   "metadata": {},
   "outputs": [],
   "source": [
    "#data.head()"
   ]
  },
  {
   "cell_type": "markdown",
   "metadata": {},
   "source": [
    "### 2.8 Parsing tripavisor analisys - см. Файл Parsing_Data_from_Tripadvisor.ipynb\n",
    "Парсинг данных проводим в файле Parsing_Data_from_Tripadvisor (имеется смещение данных - в анализируемом файле, уже не актуальные данные, тогда как на сайте данные постоянно обновляются)\n",
    "Что можно сделать: \n",
    "1. обновить данные до 2020 года в анализируемых данных;\n",
    "2. взять расстояния от ресторана до достопримечательности или центра города;\n",
    "3. взять число загруженных фотографий;\n",
    "4. использование данных по питанию, обслуживанию, цена/качество, атмосфера, считаю, что брать не корректно, так как это фактически добавление информации о рейтинге: похоже, что рейтинг - среднее арифметическое от указанных данных.\n",
    "5. получение данных о наличии / отсутствии \"награды Travellers' Choice\".\n",
    "6. получение данных о наличии / отсутствии собственного сайта.\n",
    "7. возможно время работы будет также полезно.\n",
    "8. получение данных о времени приема пищи - завтрак обед и ужин, например, не везде бывает завтрак;\n",
    "9. получение данных о наличии / отсутствии меню.  \n",
    "\n",
    "**Важно!!! Парсить придется 50000 страниц с периодическим возможным запретом сервера на подключение. Лучше сразу выбрать все необходимые данные или выбрать их по максимуму, с сохранением в файл и последующей обработкой**."
   ]
  },
  {
   "cell_type": "markdown",
   "metadata": {},
   "source": [
    "### 2.9 PolynomialFeatures"
   ]
  },
  {
   "cell_type": "code",
   "execution_count": 53,
   "metadata": {},
   "outputs": [],
   "source": [
    "from sklearn.preprocessing import PolynomialFeatures"
   ]
  },
  {
   "cell_type": "code",
   "execution_count": 54,
   "metadata": {},
   "outputs": [],
   "source": [
    "pf = PolynomialFeatures(4)"
   ]
  },
  {
   "cell_type": "code",
   "execution_count": 55,
   "metadata": {},
   "outputs": [
    {
     "data": {
      "text/plain": [
       "Index(['Restaurant_id', 'Cuisine Style', 'Ranking', 'Price Range',\n",
       "       'Number of Reviews', 'Reviews', 'URL_TA', 'ID_TA', 'sample', 'Rating',\n",
       "       'Numb_of_Rev_isNAN', 'Cuisine_Style_isNAN', 'Price_Range_isNAN',\n",
       "       'Cuisine_numb', 'URL_numb_1', 'URL_numb_2', 'max_day_rev',\n",
       "       'days_to_now', 'Population', 'Area', 'City_Amsterdam', 'City_Athens',\n",
       "       'City_Barcelona', 'City_Berlin', 'City_Bratislava', 'City_Brussels',\n",
       "       'City_Budapest', 'City_Copenhagen', 'City_Dublin', 'City_Edinburgh',\n",
       "       'City_Geneva', 'City_Hamburg', 'City_Helsinki', 'City_Krakow',\n",
       "       'City_Lisbon', 'City_Ljubljana', 'City_London', 'City_Luxembourg',\n",
       "       'City_Lyon', 'City_Madrid', 'City_Milan', 'City_Munich', 'City_Oporto',\n",
       "       'City_Oslo', 'City_Paris', 'City_Prague', 'City_Rome', 'City_Stockholm',\n",
       "       'City_Vienna', 'City_Warsaw', 'City_Zurich', 'City_nan'],\n",
       "      dtype='object')"
      ]
     },
     "execution_count": 55,
     "metadata": {},
     "output_type": "execute_result"
    }
   ],
   "source": [
    "data.columns"
   ]
  },
  {
   "cell_type": "code",
   "execution_count": 56,
   "metadata": {},
   "outputs": [
    {
     "name": "stdout",
     "output_type": "stream",
     "text": [
      "50000 36\n"
     ]
    }
   ],
   "source": [
    "col_with_numbs = ['Ranking', 'Number of Reviews', 'URL_numb_1', 'URL_numb_2', 'max_day_rev', 'days_to_now', \n",
    "           'Population', 'Area', 'Cuisine_numb']\n",
    "poly_features_list = []\n",
    "ind = 0\n",
    "for poly_1 in col_with_numbs[:-1]:\n",
    "    for poly_2 in col_with_numbs[col_with_numbs.index(poly_1) + 1 : ]:\n",
    "        ind += 1\n",
    "        poly_features = pf.fit_transform(data[[poly_1, poly_2]])[:, 3:]\n",
    "        poly_features_list.append(pd.DataFrame(\n",
    "            poly_features, columns = ['poly_feat_' + str(ind) + '_' + str(x) for x in range(poly_features.shape[1])]))\n",
    "print(len(poly_features_list[0]), len(poly_features_list))"
   ]
  },
  {
   "cell_type": "code",
   "execution_count": 57,
   "metadata": {},
   "outputs": [],
   "source": [
    "data = data.join([poly_features for poly_features in poly_features_list])"
   ]
  },
  {
   "cell_type": "code",
   "execution_count": 58,
   "metadata": {},
   "outputs": [],
   "source": [
    "poly_feat_ind = list(data.columns[list(data.columns).index('poly_feat_1_0'):])\n",
    "col_with_numbs += poly_feat_ind"
   ]
  },
  {
   "cell_type": "markdown",
   "metadata": {},
   "source": [
    "### Примечание: Что еще можно сделать для генерирования фич: можно использовать полиномиальные признаки: деление старых (полученных) признаков друг на друга + можно брать корень. "
   ]
  },
  {
   "cell_type": "markdown",
   "metadata": {},
   "source": [
    "## 3.0 Exploratory Data Analysis  - доработать для получения новых фичей"
   ]
  },
  {
   "cell_type": "markdown",
   "metadata": {},
   "source": [
    "#### Посмотрим распределение признака"
   ]
  },
  {
   "cell_type": "raw",
   "metadata": {},
   "source": [
    "plt.rcParams['figure.figsize'] = (10,7)\n",
    "df_train['Ranking'].hist(bins=100)"
   ]
  },
  {
   "cell_type": "markdown",
   "metadata": {},
   "source": [
    "Много ресторанов, которые не дотягивают и до 2500 места в своем городе, а что там по городам?"
   ]
  },
  {
   "cell_type": "raw",
   "metadata": {},
   "source": [
    "df_train['City'].value_counts(ascending=True).plot(kind='barh')"
   ]
  },
  {
   "cell_type": "markdown",
   "metadata": {},
   "source": [
    "Посмотрим, как изменится распределение в большом городе:"
   ]
  },
  {
   "cell_type": "raw",
   "metadata": {},
   "source": [
    "df_train['Ranking'][df_train['City'] =='London'].hist(bins=100)"
   ]
  },
  {
   "cell_type": "raw",
   "metadata": {},
   "source": [
    "# посмотрим на топ 10 городов\n",
    "for x in (df_train['City'].value_counts())[0:10].index:\n",
    "    df_train['Ranking'][df_train['City'] == x].hist(bins=100)\n",
    "plt.show()"
   ]
  },
  {
   "cell_type": "markdown",
   "metadata": {},
   "source": [
    "Получается, что Ranking имеет нормальное распределение, просто в больших городах больше ресторанов, из-за этого имеем смещение."
   ]
  },
  {
   "cell_type": "markdown",
   "metadata": {},
   "source": [
    "### Примечание для доработки: из этого можно сделать признак для модели. "
   ]
  },
  {
   "cell_type": "markdown",
   "metadata": {},
   "source": [
    "#### Посмотрим распределение целевой переменной"
   ]
  },
  {
   "cell_type": "raw",
   "metadata": {},
   "source": [
    "df_train['Rating'].value_counts(ascending=True).plot(kind='barh')"
   ]
  },
  {
   "cell_type": "markdown",
   "metadata": {},
   "source": [
    "#### Посмотрим распределение целевой переменной относительно признака"
   ]
  },
  {
   "cell_type": "raw",
   "metadata": {},
   "source": [
    "df_train['Ranking'][df_train['Rating'] == 5].hist(bins=100)"
   ]
  },
  {
   "cell_type": "raw",
   "metadata": {},
   "source": [
    "df_train['Ranking'][df_train['Rating'] < 4].hist(bins=100)"
   ]
  },
  {
   "cell_type": "raw",
   "metadata": {},
   "source": [
    "### Корреляция признаков\n",
    "plt.rcParams['figure.figsize'] = (15,10)\n",
    "sns.heatmap(data.drop(['sample'], axis=1).corr(),) \n",
    "## corr(method='pearson') указываем, какую корреляцию хотим посчитать, по умолчанию - корреляция Пирсона"
   ]
  },
  {
   "cell_type": "code",
   "execution_count": null,
   "metadata": {},
   "outputs": [],
   "source": []
  },
  {
   "cell_type": "code",
   "execution_count": null,
   "metadata": {},
   "outputs": [],
   "source": []
  },
  {
   "cell_type": "code",
   "execution_count": 59,
   "metadata": {},
   "outputs": [],
   "source": [
    "for col in data.columns:\n",
    "    if data[col].dtype == object:\n",
    "        data.drop([col], inplace = True, axis = 1)"
   ]
  },
  {
   "cell_type": "code",
   "execution_count": 60,
   "metadata": {},
   "outputs": [
    {
     "data": {
      "text/html": [
       "<div>\n",
       "<style scoped>\n",
       "    .dataframe tbody tr th:only-of-type {\n",
       "        vertical-align: middle;\n",
       "    }\n",
       "\n",
       "    .dataframe tbody tr th {\n",
       "        vertical-align: top;\n",
       "    }\n",
       "\n",
       "    .dataframe thead th {\n",
       "        text-align: right;\n",
       "    }\n",
       "</style>\n",
       "<table border=\"1\" class=\"dataframe\">\n",
       "  <thead>\n",
       "    <tr style=\"text-align: right;\">\n",
       "      <th></th>\n",
       "      <th>Price Range</th>\n",
       "      <th>sample</th>\n",
       "      <th>Rating</th>\n",
       "      <th>Numb_of_Rev_isNAN</th>\n",
       "      <th>Cuisine_Style_isNAN</th>\n",
       "      <th>Price_Range_isNAN</th>\n",
       "      <th>City_Amsterdam</th>\n",
       "      <th>City_Athens</th>\n",
       "      <th>City_Barcelona</th>\n",
       "      <th>City_Berlin</th>\n",
       "      <th>...</th>\n",
       "      <th>poly_feat_36_2</th>\n",
       "      <th>poly_feat_36_3</th>\n",
       "      <th>poly_feat_36_4</th>\n",
       "      <th>poly_feat_36_5</th>\n",
       "      <th>poly_feat_36_6</th>\n",
       "      <th>poly_feat_36_7</th>\n",
       "      <th>poly_feat_36_8</th>\n",
       "      <th>poly_feat_36_9</th>\n",
       "      <th>poly_feat_36_10</th>\n",
       "      <th>poly_feat_36_11</th>\n",
       "    </tr>\n",
       "  </thead>\n",
       "  <tbody>\n",
       "    <tr>\n",
       "      <th>0</th>\n",
       "      <td>3</td>\n",
       "      <td>0</td>\n",
       "      <td>0.0</td>\n",
       "      <td>0</td>\n",
       "      <td>0</td>\n",
       "      <td>0</td>\n",
       "      <td>0</td>\n",
       "      <td>0</td>\n",
       "      <td>0</td>\n",
       "      <td>0</td>\n",
       "      <td>...</td>\n",
       "      <td>-0.464456</td>\n",
       "      <td>-0.238639</td>\n",
       "      <td>-0.188564</td>\n",
       "      <td>-0.132409</td>\n",
       "      <td>-0.411072</td>\n",
       "      <td>-0.238639</td>\n",
       "      <td>-0.188564</td>\n",
       "      <td>-0.132419</td>\n",
       "      <td>-0.099020</td>\n",
       "      <td>-0.235263</td>\n",
       "    </tr>\n",
       "    <tr>\n",
       "      <th>1</th>\n",
       "      <td>3</td>\n",
       "      <td>0</td>\n",
       "      <td>0.0</td>\n",
       "      <td>0</td>\n",
       "      <td>0</td>\n",
       "      <td>0</td>\n",
       "      <td>0</td>\n",
       "      <td>0</td>\n",
       "      <td>0</td>\n",
       "      <td>0</td>\n",
       "      <td>...</td>\n",
       "      <td>1.103814</td>\n",
       "      <td>-0.238639</td>\n",
       "      <td>-0.188564</td>\n",
       "      <td>-0.132330</td>\n",
       "      <td>0.728160</td>\n",
       "      <td>-0.238639</td>\n",
       "      <td>-0.188564</td>\n",
       "      <td>-0.132419</td>\n",
       "      <td>-0.098876</td>\n",
       "      <td>0.299862</td>\n",
       "    </tr>\n",
       "    <tr>\n",
       "      <th>2</th>\n",
       "      <td>3</td>\n",
       "      <td>0</td>\n",
       "      <td>0.0</td>\n",
       "      <td>0</td>\n",
       "      <td>0</td>\n",
       "      <td>0</td>\n",
       "      <td>0</td>\n",
       "      <td>0</td>\n",
       "      <td>0</td>\n",
       "      <td>0</td>\n",
       "      <td>...</td>\n",
       "      <td>-0.688495</td>\n",
       "      <td>-0.238639</td>\n",
       "      <td>-0.188564</td>\n",
       "      <td>-0.132601</td>\n",
       "      <td>-0.479232</td>\n",
       "      <td>-0.238639</td>\n",
       "      <td>-0.188564</td>\n",
       "      <td>-0.132419</td>\n",
       "      <td>-0.099076</td>\n",
       "      <td>-0.248443</td>\n",
       "    </tr>\n",
       "    <tr>\n",
       "      <th>3</th>\n",
       "      <td>4</td>\n",
       "      <td>0</td>\n",
       "      <td>0.0</td>\n",
       "      <td>0</td>\n",
       "      <td>0</td>\n",
       "      <td>0</td>\n",
       "      <td>0</td>\n",
       "      <td>0</td>\n",
       "      <td>0</td>\n",
       "      <td>0</td>\n",
       "      <td>...</td>\n",
       "      <td>1.103814</td>\n",
       "      <td>-0.238639</td>\n",
       "      <td>-0.188564</td>\n",
       "      <td>-0.131864</td>\n",
       "      <td>0.728160</td>\n",
       "      <td>-0.238639</td>\n",
       "      <td>-0.188564</td>\n",
       "      <td>-0.132419</td>\n",
       "      <td>-0.098534</td>\n",
       "      <td>0.299862</td>\n",
       "    </tr>\n",
       "    <tr>\n",
       "      <th>4</th>\n",
       "      <td>4</td>\n",
       "      <td>0</td>\n",
       "      <td>0.0</td>\n",
       "      <td>0</td>\n",
       "      <td>0</td>\n",
       "      <td>0</td>\n",
       "      <td>0</td>\n",
       "      <td>0</td>\n",
       "      <td>0</td>\n",
       "      <td>0</td>\n",
       "      <td>...</td>\n",
       "      <td>1.925289</td>\n",
       "      <td>-0.238639</td>\n",
       "      <td>-0.188564</td>\n",
       "      <td>-0.132530</td>\n",
       "      <td>1.614230</td>\n",
       "      <td>-0.238639</td>\n",
       "      <td>-0.188564</td>\n",
       "      <td>-0.132419</td>\n",
       "      <td>-0.099012</td>\n",
       "      <td>0.889465</td>\n",
       "    </tr>\n",
       "  </tbody>\n",
       "</table>\n",
       "<p>5 rows × 479 columns</p>\n",
       "</div>"
      ],
      "text/plain": [
       "   Price Range  sample  Rating  Numb_of_Rev_isNAN  Cuisine_Style_isNAN  \\\n",
       "0            3       0     0.0                  0                    0   \n",
       "1            3       0     0.0                  0                    0   \n",
       "2            3       0     0.0                  0                    0   \n",
       "3            4       0     0.0                  0                    0   \n",
       "4            4       0     0.0                  0                    0   \n",
       "\n",
       "   Price_Range_isNAN  City_Amsterdam  City_Athens  City_Barcelona  \\\n",
       "0                  0               0            0               0   \n",
       "1                  0               0            0               0   \n",
       "2                  0               0            0               0   \n",
       "3                  0               0            0               0   \n",
       "4                  0               0            0               0   \n",
       "\n",
       "   City_Berlin  ...  poly_feat_36_2  poly_feat_36_3  poly_feat_36_4  \\\n",
       "0            0  ...       -0.464456       -0.238639       -0.188564   \n",
       "1            0  ...        1.103814       -0.238639       -0.188564   \n",
       "2            0  ...       -0.688495       -0.238639       -0.188564   \n",
       "3            0  ...        1.103814       -0.238639       -0.188564   \n",
       "4            0  ...        1.925289       -0.238639       -0.188564   \n",
       "\n",
       "   poly_feat_36_5  poly_feat_36_6  poly_feat_36_7  poly_feat_36_8  \\\n",
       "0       -0.132409       -0.411072       -0.238639       -0.188564   \n",
       "1       -0.132330        0.728160       -0.238639       -0.188564   \n",
       "2       -0.132601       -0.479232       -0.238639       -0.188564   \n",
       "3       -0.131864        0.728160       -0.238639       -0.188564   \n",
       "4       -0.132530        1.614230       -0.238639       -0.188564   \n",
       "\n",
       "   poly_feat_36_9  poly_feat_36_10  poly_feat_36_11  \n",
       "0       -0.132419        -0.099020        -0.235263  \n",
       "1       -0.132419        -0.098876         0.299862  \n",
       "2       -0.132419        -0.099076        -0.248443  \n",
       "3       -0.132419        -0.098534         0.299862  \n",
       "4       -0.132419        -0.099012         0.889465  \n",
       "\n",
       "[5 rows x 479 columns]"
      ]
     },
     "execution_count": 60,
     "metadata": {},
     "output_type": "execute_result"
    }
   ],
   "source": [
    "# Нормализация данных в столбцах с большими числами:\n",
    "data_to_std = data[col_with_numbs]\n",
    "\n",
    "data = data.drop(col_with_numbs, axis=1)\n",
    "\n",
    "data_to_std = pd.DataFrame(data=StandardScaler().fit_transform(data_to_std), columns=data_to_std.columns)\n",
    "\n",
    "data = data.join(data_to_std) # объединяем\n",
    "data.head()"
   ]
  },
  {
   "cell_type": "code",
   "execution_count": 61,
   "metadata": {},
   "outputs": [],
   "source": [
    "# Выделим тестовую часть \n",
    "train_data = data[data['sample'] == 1].drop(['sample'], axis=1)\n",
    "test_data = data[data['sample'] == 0].drop(['sample'], axis=1)\n",
    "\n",
    "y = train_data.Rating.values            # наш таргет\n",
    "X = train_data.drop(['Rating'], axis=1)"
   ]
  },
  {
   "cell_type": "code",
   "execution_count": 62,
   "metadata": {},
   "outputs": [
    {
     "data": {
      "text/html": [
       "<div>\n",
       "<style scoped>\n",
       "    .dataframe tbody tr th:only-of-type {\n",
       "        vertical-align: middle;\n",
       "    }\n",
       "\n",
       "    .dataframe tbody tr th {\n",
       "        vertical-align: top;\n",
       "    }\n",
       "\n",
       "    .dataframe thead th {\n",
       "        text-align: right;\n",
       "    }\n",
       "</style>\n",
       "<table border=\"1\" class=\"dataframe\">\n",
       "  <thead>\n",
       "    <tr style=\"text-align: right;\">\n",
       "      <th></th>\n",
       "      <th>Price Range</th>\n",
       "      <th>Rating</th>\n",
       "      <th>Numb_of_Rev_isNAN</th>\n",
       "      <th>Cuisine_Style_isNAN</th>\n",
       "      <th>Price_Range_isNAN</th>\n",
       "      <th>City_Amsterdam</th>\n",
       "      <th>City_Athens</th>\n",
       "      <th>City_Barcelona</th>\n",
       "      <th>City_Berlin</th>\n",
       "      <th>City_Bratislava</th>\n",
       "      <th>...</th>\n",
       "      <th>poly_feat_36_2</th>\n",
       "      <th>poly_feat_36_3</th>\n",
       "      <th>poly_feat_36_4</th>\n",
       "      <th>poly_feat_36_5</th>\n",
       "      <th>poly_feat_36_6</th>\n",
       "      <th>poly_feat_36_7</th>\n",
       "      <th>poly_feat_36_8</th>\n",
       "      <th>poly_feat_36_9</th>\n",
       "      <th>poly_feat_36_10</th>\n",
       "      <th>poly_feat_36_11</th>\n",
       "    </tr>\n",
       "  </thead>\n",
       "  <tbody>\n",
       "    <tr>\n",
       "      <th>10000</th>\n",
       "      <td>3</td>\n",
       "      <td>3.5</td>\n",
       "      <td>0</td>\n",
       "      <td>0</td>\n",
       "      <td>0</td>\n",
       "      <td>0</td>\n",
       "      <td>0</td>\n",
       "      <td>0</td>\n",
       "      <td>0</td>\n",
       "      <td>0</td>\n",
       "      <td>...</td>\n",
       "      <td>-0.091058</td>\n",
       "      <td>-0.238639</td>\n",
       "      <td>-0.188564</td>\n",
       "      <td>-0.132167</td>\n",
       "      <td>-0.226069</td>\n",
       "      <td>-0.238639</td>\n",
       "      <td>-0.188564</td>\n",
       "      <td>-0.132419</td>\n",
       "      <td>-0.098885</td>\n",
       "      <td>-0.178148</td>\n",
       "    </tr>\n",
       "    <tr>\n",
       "      <th>10001</th>\n",
       "      <td>1</td>\n",
       "      <td>4.0</td>\n",
       "      <td>0</td>\n",
       "      <td>1</td>\n",
       "      <td>1</td>\n",
       "      <td>0</td>\n",
       "      <td>0</td>\n",
       "      <td>0</td>\n",
       "      <td>0</td>\n",
       "      <td>0</td>\n",
       "      <td>...</td>\n",
       "      <td>-0.688495</td>\n",
       "      <td>-0.238639</td>\n",
       "      <td>-0.188564</td>\n",
       "      <td>-0.132596</td>\n",
       "      <td>-0.479232</td>\n",
       "      <td>-0.238639</td>\n",
       "      <td>-0.188564</td>\n",
       "      <td>-0.132419</td>\n",
       "      <td>-0.099075</td>\n",
       "      <td>-0.248443</td>\n",
       "    </tr>\n",
       "    <tr>\n",
       "      <th>10002</th>\n",
       "      <td>4</td>\n",
       "      <td>4.5</td>\n",
       "      <td>0</td>\n",
       "      <td>0</td>\n",
       "      <td>0</td>\n",
       "      <td>0</td>\n",
       "      <td>0</td>\n",
       "      <td>0</td>\n",
       "      <td>0</td>\n",
       "      <td>0</td>\n",
       "      <td>...</td>\n",
       "      <td>2.896123</td>\n",
       "      <td>-0.238639</td>\n",
       "      <td>-0.188564</td>\n",
       "      <td>-0.131154</td>\n",
       "      <td>2.850832</td>\n",
       "      <td>-0.238639</td>\n",
       "      <td>-0.188564</td>\n",
       "      <td>-0.132419</td>\n",
       "      <td>-0.097589</td>\n",
       "      <td>1.860422</td>\n",
       "    </tr>\n",
       "    <tr>\n",
       "      <th>10003</th>\n",
       "      <td>1</td>\n",
       "      <td>5.0</td>\n",
       "      <td>0</td>\n",
       "      <td>1</td>\n",
       "      <td>1</td>\n",
       "      <td>0</td>\n",
       "      <td>0</td>\n",
       "      <td>0</td>\n",
       "      <td>1</td>\n",
       "      <td>0</td>\n",
       "      <td>...</td>\n",
       "      <td>-0.688495</td>\n",
       "      <td>-0.238639</td>\n",
       "      <td>-0.188564</td>\n",
       "      <td>-0.132580</td>\n",
       "      <td>-0.479232</td>\n",
       "      <td>-0.238639</td>\n",
       "      <td>-0.188564</td>\n",
       "      <td>-0.132419</td>\n",
       "      <td>-0.099073</td>\n",
       "      <td>-0.248443</td>\n",
       "    </tr>\n",
       "    <tr>\n",
       "      <th>10004</th>\n",
       "      <td>3</td>\n",
       "      <td>4.0</td>\n",
       "      <td>0</td>\n",
       "      <td>0</td>\n",
       "      <td>0</td>\n",
       "      <td>0</td>\n",
       "      <td>0</td>\n",
       "      <td>0</td>\n",
       "      <td>0</td>\n",
       "      <td>0</td>\n",
       "      <td>...</td>\n",
       "      <td>-0.091058</td>\n",
       "      <td>-0.238639</td>\n",
       "      <td>-0.188564</td>\n",
       "      <td>-0.132531</td>\n",
       "      <td>-0.226069</td>\n",
       "      <td>-0.238639</td>\n",
       "      <td>-0.188564</td>\n",
       "      <td>-0.132419</td>\n",
       "      <td>-0.099045</td>\n",
       "      <td>-0.178148</td>\n",
       "    </tr>\n",
       "  </tbody>\n",
       "</table>\n",
       "<p>5 rows × 478 columns</p>\n",
       "</div>"
      ],
      "text/plain": [
       "       Price Range  Rating  Numb_of_Rev_isNAN  Cuisine_Style_isNAN  \\\n",
       "10000            3     3.5                  0                    0   \n",
       "10001            1     4.0                  0                    1   \n",
       "10002            4     4.5                  0                    0   \n",
       "10003            1     5.0                  0                    1   \n",
       "10004            3     4.0                  0                    0   \n",
       "\n",
       "       Price_Range_isNAN  City_Amsterdam  City_Athens  City_Barcelona  \\\n",
       "10000                  0               0            0               0   \n",
       "10001                  1               0            0               0   \n",
       "10002                  0               0            0               0   \n",
       "10003                  1               0            0               0   \n",
       "10004                  0               0            0               0   \n",
       "\n",
       "       City_Berlin  City_Bratislava  ...  poly_feat_36_2  poly_feat_36_3  \\\n",
       "10000            0                0  ...       -0.091058       -0.238639   \n",
       "10001            0                0  ...       -0.688495       -0.238639   \n",
       "10002            0                0  ...        2.896123       -0.238639   \n",
       "10003            1                0  ...       -0.688495       -0.238639   \n",
       "10004            0                0  ...       -0.091058       -0.238639   \n",
       "\n",
       "       poly_feat_36_4  poly_feat_36_5  poly_feat_36_6  poly_feat_36_7  \\\n",
       "10000       -0.188564       -0.132167       -0.226069       -0.238639   \n",
       "10001       -0.188564       -0.132596       -0.479232       -0.238639   \n",
       "10002       -0.188564       -0.131154        2.850832       -0.238639   \n",
       "10003       -0.188564       -0.132580       -0.479232       -0.238639   \n",
       "10004       -0.188564       -0.132531       -0.226069       -0.238639   \n",
       "\n",
       "       poly_feat_36_8  poly_feat_36_9  poly_feat_36_10  poly_feat_36_11  \n",
       "10000       -0.188564       -0.132419        -0.098885        -0.178148  \n",
       "10001       -0.188564       -0.132419        -0.099075        -0.248443  \n",
       "10002       -0.188564       -0.132419        -0.097589         1.860422  \n",
       "10003       -0.188564       -0.132419        -0.099073        -0.248443  \n",
       "10004       -0.188564       -0.132419        -0.099045        -0.178148  \n",
       "\n",
       "[5 rows x 478 columns]"
      ]
     },
     "execution_count": 62,
     "metadata": {},
     "output_type": "execute_result"
    }
   ],
   "source": [
    "train_data.head()"
   ]
  },
  {
   "cell_type": "code",
   "execution_count": 63,
   "metadata": {},
   "outputs": [
    {
     "data": {
      "text/html": [
       "<div>\n",
       "<style scoped>\n",
       "    .dataframe tbody tr th:only-of-type {\n",
       "        vertical-align: middle;\n",
       "    }\n",
       "\n",
       "    .dataframe tbody tr th {\n",
       "        vertical-align: top;\n",
       "    }\n",
       "\n",
       "    .dataframe thead th {\n",
       "        text-align: right;\n",
       "    }\n",
       "</style>\n",
       "<table border=\"1\" class=\"dataframe\">\n",
       "  <thead>\n",
       "    <tr style=\"text-align: right;\">\n",
       "      <th></th>\n",
       "      <th>Price Range</th>\n",
       "      <th>Rating</th>\n",
       "      <th>Numb_of_Rev_isNAN</th>\n",
       "      <th>Cuisine_Style_isNAN</th>\n",
       "      <th>Price_Range_isNAN</th>\n",
       "      <th>City_Amsterdam</th>\n",
       "      <th>City_Athens</th>\n",
       "      <th>City_Barcelona</th>\n",
       "      <th>City_Berlin</th>\n",
       "      <th>City_Bratislava</th>\n",
       "      <th>...</th>\n",
       "      <th>poly_feat_36_2</th>\n",
       "      <th>poly_feat_36_3</th>\n",
       "      <th>poly_feat_36_4</th>\n",
       "      <th>poly_feat_36_5</th>\n",
       "      <th>poly_feat_36_6</th>\n",
       "      <th>poly_feat_36_7</th>\n",
       "      <th>poly_feat_36_8</th>\n",
       "      <th>poly_feat_36_9</th>\n",
       "      <th>poly_feat_36_10</th>\n",
       "      <th>poly_feat_36_11</th>\n",
       "    </tr>\n",
       "  </thead>\n",
       "  <tbody>\n",
       "    <tr>\n",
       "      <th>0</th>\n",
       "      <td>3</td>\n",
       "      <td>0.0</td>\n",
       "      <td>0</td>\n",
       "      <td>0</td>\n",
       "      <td>0</td>\n",
       "      <td>0</td>\n",
       "      <td>0</td>\n",
       "      <td>0</td>\n",
       "      <td>0</td>\n",
       "      <td>0</td>\n",
       "      <td>...</td>\n",
       "      <td>-0.464456</td>\n",
       "      <td>-0.238639</td>\n",
       "      <td>-0.188564</td>\n",
       "      <td>-0.132409</td>\n",
       "      <td>-0.411072</td>\n",
       "      <td>-0.238639</td>\n",
       "      <td>-0.188564</td>\n",
       "      <td>-0.132419</td>\n",
       "      <td>-0.099020</td>\n",
       "      <td>-0.235263</td>\n",
       "    </tr>\n",
       "    <tr>\n",
       "      <th>1</th>\n",
       "      <td>3</td>\n",
       "      <td>0.0</td>\n",
       "      <td>0</td>\n",
       "      <td>0</td>\n",
       "      <td>0</td>\n",
       "      <td>0</td>\n",
       "      <td>0</td>\n",
       "      <td>0</td>\n",
       "      <td>0</td>\n",
       "      <td>0</td>\n",
       "      <td>...</td>\n",
       "      <td>1.103814</td>\n",
       "      <td>-0.238639</td>\n",
       "      <td>-0.188564</td>\n",
       "      <td>-0.132330</td>\n",
       "      <td>0.728160</td>\n",
       "      <td>-0.238639</td>\n",
       "      <td>-0.188564</td>\n",
       "      <td>-0.132419</td>\n",
       "      <td>-0.098876</td>\n",
       "      <td>0.299862</td>\n",
       "    </tr>\n",
       "    <tr>\n",
       "      <th>2</th>\n",
       "      <td>3</td>\n",
       "      <td>0.0</td>\n",
       "      <td>0</td>\n",
       "      <td>0</td>\n",
       "      <td>0</td>\n",
       "      <td>0</td>\n",
       "      <td>0</td>\n",
       "      <td>0</td>\n",
       "      <td>0</td>\n",
       "      <td>0</td>\n",
       "      <td>...</td>\n",
       "      <td>-0.688495</td>\n",
       "      <td>-0.238639</td>\n",
       "      <td>-0.188564</td>\n",
       "      <td>-0.132601</td>\n",
       "      <td>-0.479232</td>\n",
       "      <td>-0.238639</td>\n",
       "      <td>-0.188564</td>\n",
       "      <td>-0.132419</td>\n",
       "      <td>-0.099076</td>\n",
       "      <td>-0.248443</td>\n",
       "    </tr>\n",
       "    <tr>\n",
       "      <th>3</th>\n",
       "      <td>4</td>\n",
       "      <td>0.0</td>\n",
       "      <td>0</td>\n",
       "      <td>0</td>\n",
       "      <td>0</td>\n",
       "      <td>0</td>\n",
       "      <td>0</td>\n",
       "      <td>0</td>\n",
       "      <td>0</td>\n",
       "      <td>0</td>\n",
       "      <td>...</td>\n",
       "      <td>1.103814</td>\n",
       "      <td>-0.238639</td>\n",
       "      <td>-0.188564</td>\n",
       "      <td>-0.131864</td>\n",
       "      <td>0.728160</td>\n",
       "      <td>-0.238639</td>\n",
       "      <td>-0.188564</td>\n",
       "      <td>-0.132419</td>\n",
       "      <td>-0.098534</td>\n",
       "      <td>0.299862</td>\n",
       "    </tr>\n",
       "    <tr>\n",
       "      <th>4</th>\n",
       "      <td>4</td>\n",
       "      <td>0.0</td>\n",
       "      <td>0</td>\n",
       "      <td>0</td>\n",
       "      <td>0</td>\n",
       "      <td>0</td>\n",
       "      <td>0</td>\n",
       "      <td>0</td>\n",
       "      <td>0</td>\n",
       "      <td>1</td>\n",
       "      <td>...</td>\n",
       "      <td>1.925289</td>\n",
       "      <td>-0.238639</td>\n",
       "      <td>-0.188564</td>\n",
       "      <td>-0.132530</td>\n",
       "      <td>1.614230</td>\n",
       "      <td>-0.238639</td>\n",
       "      <td>-0.188564</td>\n",
       "      <td>-0.132419</td>\n",
       "      <td>-0.099012</td>\n",
       "      <td>0.889465</td>\n",
       "    </tr>\n",
       "  </tbody>\n",
       "</table>\n",
       "<p>5 rows × 478 columns</p>\n",
       "</div>"
      ],
      "text/plain": [
       "   Price Range  Rating  Numb_of_Rev_isNAN  Cuisine_Style_isNAN  \\\n",
       "0            3     0.0                  0                    0   \n",
       "1            3     0.0                  0                    0   \n",
       "2            3     0.0                  0                    0   \n",
       "3            4     0.0                  0                    0   \n",
       "4            4     0.0                  0                    0   \n",
       "\n",
       "   Price_Range_isNAN  City_Amsterdam  City_Athens  City_Barcelona  \\\n",
       "0                  0               0            0               0   \n",
       "1                  0               0            0               0   \n",
       "2                  0               0            0               0   \n",
       "3                  0               0            0               0   \n",
       "4                  0               0            0               0   \n",
       "\n",
       "   City_Berlin  City_Bratislava  ...  poly_feat_36_2  poly_feat_36_3  \\\n",
       "0            0                0  ...       -0.464456       -0.238639   \n",
       "1            0                0  ...        1.103814       -0.238639   \n",
       "2            0                0  ...       -0.688495       -0.238639   \n",
       "3            0                0  ...        1.103814       -0.238639   \n",
       "4            0                1  ...        1.925289       -0.238639   \n",
       "\n",
       "   poly_feat_36_4  poly_feat_36_5  poly_feat_36_6  poly_feat_36_7  \\\n",
       "0       -0.188564       -0.132409       -0.411072       -0.238639   \n",
       "1       -0.188564       -0.132330        0.728160       -0.238639   \n",
       "2       -0.188564       -0.132601       -0.479232       -0.238639   \n",
       "3       -0.188564       -0.131864        0.728160       -0.238639   \n",
       "4       -0.188564       -0.132530        1.614230       -0.238639   \n",
       "\n",
       "   poly_feat_36_8  poly_feat_36_9  poly_feat_36_10  poly_feat_36_11  \n",
       "0       -0.188564       -0.132419        -0.099020        -0.235263  \n",
       "1       -0.188564       -0.132419        -0.098876         0.299862  \n",
       "2       -0.188564       -0.132419        -0.099076        -0.248443  \n",
       "3       -0.188564       -0.132419        -0.098534         0.299862  \n",
       "4       -0.188564       -0.132419        -0.099012         0.889465  \n",
       "\n",
       "[5 rows x 478 columns]"
      ]
     },
     "execution_count": 63,
     "metadata": {},
     "output_type": "execute_result"
    }
   ],
   "source": [
    "test_data.head()"
   ]
  },
  {
   "cell_type": "code",
   "execution_count": 64,
   "metadata": {},
   "outputs": [],
   "source": [
    "# Воспользуемся train_test_split для разбивки данных, выделим 20% данных на валидацию\n",
    "X_train, X_test, y_train, y_test = train_test_split(X, y, test_size=0.2, random_state=RANDOM_SEED)"
   ]
  },
  {
   "cell_type": "code",
   "execution_count": 65,
   "metadata": {},
   "outputs": [
    {
     "data": {
      "text/plain": [
       "((10000, 478), (40000, 478), (40000, 477), (32000, 477), (8000, 477))"
      ]
     },
     "execution_count": 65,
     "metadata": {},
     "output_type": "execute_result"
    }
   ],
   "source": [
    "# проверяем\n",
    "test_data.shape, train_data.shape, X.shape, X_train.shape, X_test.shape"
   ]
  },
  {
   "cell_type": "code",
   "execution_count": 66,
   "metadata": {},
   "outputs": [],
   "source": [
    "# Создаём модель (пока настройки не меняем, чтобы получить лучший результат на feature engineering)\n",
    "model = RandomForestRegressor(n_estimators=100, verbose=1, n_jobs=-1, random_state=RANDOM_SEED)"
   ]
  },
  {
   "cell_type": "code",
   "execution_count": 67,
   "metadata": {},
   "outputs": [
    {
     "name": "stderr",
     "output_type": "stream",
     "text": [
      "[Parallel(n_jobs=-1)]: Using backend ThreadingBackend with 4 concurrent workers.\n",
      "[Parallel(n_jobs=-1)]: Done  42 tasks      | elapsed:  3.3min\n",
      "[Parallel(n_jobs=-1)]: Done 100 out of 100 | elapsed:  8.0min finished\n",
      "[Parallel(n_jobs=4)]: Using backend ThreadingBackend with 4 concurrent workers.\n",
      "[Parallel(n_jobs=4)]: Done  42 tasks      | elapsed:    0.1s\n",
      "[Parallel(n_jobs=4)]: Done 100 out of 100 | elapsed:    0.2s finished\n"
     ]
    }
   ],
   "source": [
    "# Обучаем модель\n",
    "model.fit(X_train, y_train)\n",
    "\n",
    "# Используем обученную модель для предсказания рейтинга ресторанов в тестовой выборке.\n",
    "# Предсказанные значения записываем в переменную y_pred\n",
    "y_pred = model.predict(X_test)"
   ]
  },
  {
   "cell_type": "code",
   "execution_count": 68,
   "metadata": {},
   "outputs": [
    {
     "name": "stdout",
     "output_type": "stream",
     "text": [
      "MAE: 0.168875\n"
     ]
    }
   ],
   "source": [
    "# Сравниваем предсказанные значения (y_pred) с реальными (y_test), и смотрим насколько они в среднем отличаются\n",
    "# Метрика называется Mean Absolute Error (MAE) и показывает среднее отклонение предсказанных значений от фактических.\n",
    "# y_pred обрабатываем, с округлением до 0.5, так как оценка - дискретный набор с шагом 0.5.\n",
    "print('MAE:', metrics.mean_absolute_error(y_test, np.array(list(map(lambda x: round(x*2)/2, y_pred))))) #"
   ]
  },
  {
   "cell_type": "code",
   "execution_count": 69,
   "metadata": {},
   "outputs": [
    {
     "data": {
      "text/plain": [
       "<matplotlib.axes._subplots.AxesSubplot at 0x7f65ebb14a10>"
      ]
     },
     "execution_count": 69,
     "metadata": {},
     "output_type": "execute_result"
    },
    {
     "data": {
      "image/png": "[encoded data removed]",
      "text/plain": [
       "<Figure size 720x720 with 1 Axes>"
      ]
     },
     "metadata": {
      "needs_background": "light"
     },
     "output_type": "display_data"
    }
   ],
   "source": [
    "# Анализ: в RandomForestRegressor есть возможность вывести самые важные признаки для модели\n",
    "plt.rcParams['figure.figsize'] = (10,10)\n",
    "feat_importances = pd.Series(model.feature_importances_, index=X.columns)\n",
    "feat_importances.nlargest(15).plot(kind='barh')"
   ]
  },
  {
   "cell_type": "code",
   "execution_count": null,
   "metadata": {},
   "outputs": [],
   "source": [
    "\n"
   ]
  },
  {
   "cell_type": "markdown",
   "metadata": {},
   "source": [
    "## Для доработки:"
   ]
  },
  {
   "cell_type": "markdown",
   "metadata": {},
   "source": [
    "1. Все вышепроведенные преобразования и функции можно записать в виде одной обрабатывающей функции, что более красиво для кода и позволяет тратить меньше времени при выборе фич.  \n",
    "2. Можно перевести эту большую функцию в класс и разбить на подфункции (согласно ООП). "
   ]
  },
  {
   "cell_type": "raw",
   "metadata": {},
   "source": [
    "def preproc_data(df_input):\n",
    "    '''includes several functions to pre-process the predictor data.'''\n",
    "    \n",
    "    df_output = df_input.copy()\n",
    "    \n",
    "    # ################### 1. Предобработка ############################################################## \n",
    "    # убираем не нужные для модели признаки\n",
    "    df_output.drop(['Restaurant_id','ID_TA',], axis = 1, inplace=True)\n",
    "    \n",
    "    \n",
    "    # ################### 2. NAN ############################################################## \n",
    "    # Заполняем пропуски...\n",
    "    df_output['Number of Reviews'].fillna(0, inplace=True)\n",
    "    # ....\n",
    "    \n",
    "    \n",
    "    # ################### 3. Encoding ############################################################## \n",
    "    # для One-Hot Encoding\n",
    "    df_output = pd.get_dummies(df_output, columns=[ 'City',], dummy_na=True)\n",
    "    # ....\n",
    "    \n",
    "    \n",
    "    # ################### 4. Feature Engineering ####################################################\n",
    "    # генерация новых фитчей\n",
    "    # ....\n",
    "    \n",
    "    \n",
    "    # ################### 5. Clean #################################################### \n",
    "    # убираем признаки которые еще не успели обработать, \n",
    "    # модель на признаках с dtypes \"object\" обучаться не будет, просто выберим их и удалим\n",
    "    object_columns = [s for s in df_output.columns if df_output[s].dtypes == 'object']\n",
    "    df_output.drop(object_columns, axis = 1, inplace=True)\n",
    "    \n",
    "    return df_output"
   ]
  },
  {
   "cell_type": "raw",
   "metadata": {},
   "source": [
    "df_preproc.info()"
   ]
  },
  {
   "cell_type": "markdown",
   "metadata": {},
   "source": [
    "### Для проработки фичей созданы 2 функции"
   ]
  },
  {
   "cell_type": "raw",
   "metadata": {},
   "source": [
    "# Делаем функцию для создания списка слов из строки в столбце с отзывами\n",
    "def str_in_list(word_str):\n",
    "    if type(word_str) == float:\n",
    "        return ['unknown']\n",
    "    pattern = re.compile('[a-zа-я]+')\n",
    "    word_list = pattern.findall(word_str.lower())\n",
    "    if len(word_list) != 0:\n",
    "        return word_list\n",
    "    else:\n",
    "        return ['unknown']"
   ]
  },
  {
   "cell_type": "raw",
   "metadata": {},
   "source": [
    "# Делаем функцию для создания частоты встречающихся слов во всех отзывах на основании словаря\n",
    "def BOW_dict(series_word_list):\n",
    "    word_dict = {}\n",
    "    for i in series_word_list.index:\n",
    "        for word in series_word_list.loc[i]:\n",
    "            if word in word_dict:\n",
    "                word_dict[word] += 1\n",
    "            else:\n",
    "                word_dict[word] = 1\n",
    "    return word_dict"
   ]
  },
  {
   "cell_type": "markdown",
   "metadata": {},
   "source": [
    "# 4.0 Submission"
   ]
  },
  {
   "cell_type": "code",
   "execution_count": 70,
   "metadata": {},
   "outputs": [
    {
     "data": {
      "text/html": [
       "<div>\n",
       "<style scoped>\n",
       "    .dataframe tbody tr th:only-of-type {\n",
       "        vertical-align: middle;\n",
       "    }\n",
       "\n",
       "    .dataframe tbody tr th {\n",
       "        vertical-align: top;\n",
       "    }\n",
       "\n",
       "    .dataframe thead th {\n",
       "        text-align: right;\n",
       "    }\n",
       "</style>\n",
       "<table border=\"1\" class=\"dataframe\">\n",
       "  <thead>\n",
       "    <tr style=\"text-align: right;\">\n",
       "      <th></th>\n",
       "      <th>Price Range</th>\n",
       "      <th>Rating</th>\n",
       "      <th>Numb_of_Rev_isNAN</th>\n",
       "      <th>Cuisine_Style_isNAN</th>\n",
       "      <th>Price_Range_isNAN</th>\n",
       "      <th>City_Amsterdam</th>\n",
       "      <th>City_Athens</th>\n",
       "      <th>City_Barcelona</th>\n",
       "      <th>City_Berlin</th>\n",
       "      <th>City_Bratislava</th>\n",
       "      <th>...</th>\n",
       "      <th>poly_feat_36_2</th>\n",
       "      <th>poly_feat_36_3</th>\n",
       "      <th>poly_feat_36_4</th>\n",
       "      <th>poly_feat_36_5</th>\n",
       "      <th>poly_feat_36_6</th>\n",
       "      <th>poly_feat_36_7</th>\n",
       "      <th>poly_feat_36_8</th>\n",
       "      <th>poly_feat_36_9</th>\n",
       "      <th>poly_feat_36_10</th>\n",
       "      <th>poly_feat_36_11</th>\n",
       "    </tr>\n",
       "  </thead>\n",
       "  <tbody>\n",
       "    <tr>\n",
       "      <th>4652</th>\n",
       "      <td>3</td>\n",
       "      <td>0.0</td>\n",
       "      <td>0</td>\n",
       "      <td>0</td>\n",
       "      <td>0</td>\n",
       "      <td>0</td>\n",
       "      <td>0</td>\n",
       "      <td>0</td>\n",
       "      <td>0</td>\n",
       "      <td>0</td>\n",
       "      <td>...</td>\n",
       "      <td>-0.464456</td>\n",
       "      <td>-0.238639</td>\n",
       "      <td>-0.188564</td>\n",
       "      <td>-0.132580</td>\n",
       "      <td>-0.411072</td>\n",
       "      <td>-0.238639</td>\n",
       "      <td>-0.188564</td>\n",
       "      <td>-0.132419</td>\n",
       "      <td>-0.099070</td>\n",
       "      <td>-0.235263</td>\n",
       "    </tr>\n",
       "    <tr>\n",
       "      <th>9982</th>\n",
       "      <td>1</td>\n",
       "      <td>0.0</td>\n",
       "      <td>0</td>\n",
       "      <td>1</td>\n",
       "      <td>1</td>\n",
       "      <td>0</td>\n",
       "      <td>0</td>\n",
       "      <td>0</td>\n",
       "      <td>1</td>\n",
       "      <td>0</td>\n",
       "      <td>...</td>\n",
       "      <td>-0.688495</td>\n",
       "      <td>-0.238639</td>\n",
       "      <td>-0.188564</td>\n",
       "      <td>-0.132580</td>\n",
       "      <td>-0.479232</td>\n",
       "      <td>-0.238639</td>\n",
       "      <td>-0.188564</td>\n",
       "      <td>-0.132419</td>\n",
       "      <td>-0.099073</td>\n",
       "      <td>-0.248443</td>\n",
       "    </tr>\n",
       "    <tr>\n",
       "      <th>3593</th>\n",
       "      <td>3</td>\n",
       "      <td>0.0</td>\n",
       "      <td>0</td>\n",
       "      <td>0</td>\n",
       "      <td>0</td>\n",
       "      <td>0</td>\n",
       "      <td>0</td>\n",
       "      <td>0</td>\n",
       "      <td>0</td>\n",
       "      <td>0</td>\n",
       "      <td>...</td>\n",
       "      <td>-0.688495</td>\n",
       "      <td>-0.238639</td>\n",
       "      <td>-0.188564</td>\n",
       "      <td>-0.132598</td>\n",
       "      <td>-0.479232</td>\n",
       "      <td>-0.238639</td>\n",
       "      <td>-0.188564</td>\n",
       "      <td>-0.132419</td>\n",
       "      <td>-0.099076</td>\n",
       "      <td>-0.248443</td>\n",
       "    </tr>\n",
       "    <tr>\n",
       "      <th>5048</th>\n",
       "      <td>3</td>\n",
       "      <td>0.0</td>\n",
       "      <td>0</td>\n",
       "      <td>0</td>\n",
       "      <td>0</td>\n",
       "      <td>0</td>\n",
       "      <td>0</td>\n",
       "      <td>0</td>\n",
       "      <td>0</td>\n",
       "      <td>0</td>\n",
       "      <td>...</td>\n",
       "      <td>0.431698</td>\n",
       "      <td>-0.238639</td>\n",
       "      <td>-0.188564</td>\n",
       "      <td>-0.132455</td>\n",
       "      <td>0.134201</td>\n",
       "      <td>-0.238639</td>\n",
       "      <td>-0.188564</td>\n",
       "      <td>-0.132419</td>\n",
       "      <td>-0.098989</td>\n",
       "      <td>-0.024376</td>\n",
       "    </tr>\n",
       "    <tr>\n",
       "      <th>5090</th>\n",
       "      <td>2</td>\n",
       "      <td>0.0</td>\n",
       "      <td>0</td>\n",
       "      <td>0</td>\n",
       "      <td>0</td>\n",
       "      <td>0</td>\n",
       "      <td>0</td>\n",
       "      <td>1</td>\n",
       "      <td>0</td>\n",
       "      <td>0</td>\n",
       "      <td>...</td>\n",
       "      <td>-0.688495</td>\n",
       "      <td>-0.238639</td>\n",
       "      <td>-0.188564</td>\n",
       "      <td>-0.132584</td>\n",
       "      <td>-0.479232</td>\n",
       "      <td>-0.238639</td>\n",
       "      <td>-0.188564</td>\n",
       "      <td>-0.132419</td>\n",
       "      <td>-0.099074</td>\n",
       "      <td>-0.248443</td>\n",
       "    </tr>\n",
       "    <tr>\n",
       "      <th>493</th>\n",
       "      <td>1</td>\n",
       "      <td>0.0</td>\n",
       "      <td>0</td>\n",
       "      <td>1</td>\n",
       "      <td>1</td>\n",
       "      <td>0</td>\n",
       "      <td>0</td>\n",
       "      <td>0</td>\n",
       "      <td>0</td>\n",
       "      <td>0</td>\n",
       "      <td>...</td>\n",
       "      <td>-0.688495</td>\n",
       "      <td>-0.238639</td>\n",
       "      <td>-0.188564</td>\n",
       "      <td>-0.132598</td>\n",
       "      <td>-0.479232</td>\n",
       "      <td>-0.238639</td>\n",
       "      <td>-0.188564</td>\n",
       "      <td>-0.132419</td>\n",
       "      <td>-0.099076</td>\n",
       "      <td>-0.248443</td>\n",
       "    </tr>\n",
       "    <tr>\n",
       "      <th>4131</th>\n",
       "      <td>1</td>\n",
       "      <td>0.0</td>\n",
       "      <td>1</td>\n",
       "      <td>1</td>\n",
       "      <td>1</td>\n",
       "      <td>0</td>\n",
       "      <td>0</td>\n",
       "      <td>0</td>\n",
       "      <td>0</td>\n",
       "      <td>0</td>\n",
       "      <td>...</td>\n",
       "      <td>-0.688495</td>\n",
       "      <td>-0.238639</td>\n",
       "      <td>-0.188564</td>\n",
       "      <td>-0.132589</td>\n",
       "      <td>-0.479232</td>\n",
       "      <td>-0.238639</td>\n",
       "      <td>-0.188564</td>\n",
       "      <td>-0.132419</td>\n",
       "      <td>-0.099074</td>\n",
       "      <td>-0.248443</td>\n",
       "    </tr>\n",
       "    <tr>\n",
       "      <th>9091</th>\n",
       "      <td>2</td>\n",
       "      <td>0.0</td>\n",
       "      <td>0</td>\n",
       "      <td>0</td>\n",
       "      <td>0</td>\n",
       "      <td>1</td>\n",
       "      <td>0</td>\n",
       "      <td>0</td>\n",
       "      <td>0</td>\n",
       "      <td>0</td>\n",
       "      <td>...</td>\n",
       "      <td>-0.091058</td>\n",
       "      <td>-0.238639</td>\n",
       "      <td>-0.188564</td>\n",
       "      <td>-0.132525</td>\n",
       "      <td>-0.226069</td>\n",
       "      <td>-0.238639</td>\n",
       "      <td>-0.188564</td>\n",
       "      <td>-0.132419</td>\n",
       "      <td>-0.099042</td>\n",
       "      <td>-0.178148</td>\n",
       "    </tr>\n",
       "    <tr>\n",
       "      <th>5426</th>\n",
       "      <td>3</td>\n",
       "      <td>0.0</td>\n",
       "      <td>0</td>\n",
       "      <td>0</td>\n",
       "      <td>0</td>\n",
       "      <td>1</td>\n",
       "      <td>0</td>\n",
       "      <td>0</td>\n",
       "      <td>0</td>\n",
       "      <td>0</td>\n",
       "      <td>...</td>\n",
       "      <td>-0.091058</td>\n",
       "      <td>-0.238639</td>\n",
       "      <td>-0.188564</td>\n",
       "      <td>-0.132525</td>\n",
       "      <td>-0.226069</td>\n",
       "      <td>-0.238639</td>\n",
       "      <td>-0.188564</td>\n",
       "      <td>-0.132419</td>\n",
       "      <td>-0.099042</td>\n",
       "      <td>-0.178148</td>\n",
       "    </tr>\n",
       "    <tr>\n",
       "      <th>7046</th>\n",
       "      <td>3</td>\n",
       "      <td>0.0</td>\n",
       "      <td>0</td>\n",
       "      <td>0</td>\n",
       "      <td>0</td>\n",
       "      <td>0</td>\n",
       "      <td>0</td>\n",
       "      <td>0</td>\n",
       "      <td>0</td>\n",
       "      <td>0</td>\n",
       "      <td>...</td>\n",
       "      <td>-0.091058</td>\n",
       "      <td>-0.238639</td>\n",
       "      <td>-0.188564</td>\n",
       "      <td>-0.132575</td>\n",
       "      <td>-0.226069</td>\n",
       "      <td>-0.238639</td>\n",
       "      <td>-0.188564</td>\n",
       "      <td>-0.132419</td>\n",
       "      <td>-0.099064</td>\n",
       "      <td>-0.178148</td>\n",
       "    </tr>\n",
       "  </tbody>\n",
       "</table>\n",
       "<p>10 rows × 478 columns</p>\n",
       "</div>"
      ],
      "text/plain": [
       "      Price Range  Rating  Numb_of_Rev_isNAN  Cuisine_Style_isNAN  \\\n",
       "4652            3     0.0                  0                    0   \n",
       "9982            1     0.0                  0                    1   \n",
       "3593            3     0.0                  0                    0   \n",
       "5048            3     0.0                  0                    0   \n",
       "5090            2     0.0                  0                    0   \n",
       "493             1     0.0                  0                    1   \n",
       "4131            1     0.0                  1                    1   \n",
       "9091            2     0.0                  0                    0   \n",
       "5426            3     0.0                  0                    0   \n",
       "7046            3     0.0                  0                    0   \n",
       "\n",
       "      Price_Range_isNAN  City_Amsterdam  City_Athens  City_Barcelona  \\\n",
       "4652                  0               0            0               0   \n",
       "9982                  1               0            0               0   \n",
       "3593                  0               0            0               0   \n",
       "5048                  0               0            0               0   \n",
       "5090                  0               0            0               1   \n",
       "493                   1               0            0               0   \n",
       "4131                  1               0            0               0   \n",
       "9091                  0               1            0               0   \n",
       "5426                  0               1            0               0   \n",
       "7046                  0               0            0               0   \n",
       "\n",
       "      City_Berlin  City_Bratislava  ...  poly_feat_36_2  poly_feat_36_3  \\\n",
       "4652            0                0  ...       -0.464456       -0.238639   \n",
       "9982            1                0  ...       -0.688495       -0.238639   \n",
       "3593            0                0  ...       -0.688495       -0.238639   \n",
       "5048            0                0  ...        0.431698       -0.238639   \n",
       "5090            0                0  ...       -0.688495       -0.238639   \n",
       "493             0                0  ...       -0.688495       -0.238639   \n",
       "4131            0                0  ...       -0.688495       -0.238639   \n",
       "9091            0                0  ...       -0.091058       -0.238639   \n",
       "5426            0                0  ...       -0.091058       -0.238639   \n",
       "7046            0                0  ...       -0.091058       -0.238639   \n",
       "\n",
       "      poly_feat_36_4  poly_feat_36_5  poly_feat_36_6  poly_feat_36_7  \\\n",
       "4652       -0.188564       -0.132580       -0.411072       -0.238639   \n",
       "9982       -0.188564       -0.132580       -0.479232       -0.238639   \n",
       "3593       -0.188564       -0.132598       -0.479232       -0.238639   \n",
       "5048       -0.188564       -0.132455        0.134201       -0.238639   \n",
       "5090       -0.188564       -0.132584       -0.479232       -0.238639   \n",
       "493        -0.188564       -0.132598       -0.479232       -0.238639   \n",
       "4131       -0.188564       -0.132589       -0.479232       -0.238639   \n",
       "9091       -0.188564       -0.132525       -0.226069       -0.238639   \n",
       "5426       -0.188564       -0.132525       -0.226069       -0.238639   \n",
       "7046       -0.188564       -0.132575       -0.226069       -0.238639   \n",
       "\n",
       "      poly_feat_36_8  poly_feat_36_9  poly_feat_36_10  poly_feat_36_11  \n",
       "4652       -0.188564       -0.132419        -0.099070        -0.235263  \n",
       "9982       -0.188564       -0.132419        -0.099073        -0.248443  \n",
       "3593       -0.188564       -0.132419        -0.099076        -0.248443  \n",
       "5048       -0.188564       -0.132419        -0.098989        -0.024376  \n",
       "5090       -0.188564       -0.132419        -0.099074        -0.248443  \n",
       "493        -0.188564       -0.132419        -0.099076        -0.248443  \n",
       "4131       -0.188564       -0.132419        -0.099074        -0.248443  \n",
       "9091       -0.188564       -0.132419        -0.099042        -0.178148  \n",
       "5426       -0.188564       -0.132419        -0.099042        -0.178148  \n",
       "7046       -0.188564       -0.132419        -0.099064        -0.178148  \n",
       "\n",
       "[10 rows x 478 columns]"
      ]
     },
     "execution_count": 70,
     "metadata": {},
     "output_type": "execute_result"
    }
   ],
   "source": [
    "test_data.sample(10)"
   ]
  },
  {
   "cell_type": "code",
   "execution_count": 71,
   "metadata": {},
   "outputs": [],
   "source": [
    "test_data_1 = test_data.drop(['Rating'], axis=1)"
   ]
  },
  {
   "cell_type": "code",
   "execution_count": 72,
   "metadata": {},
   "outputs": [
    {
     "data": {
      "text/html": [
       "<div>\n",
       "<style scoped>\n",
       "    .dataframe tbody tr th:only-of-type {\n",
       "        vertical-align: middle;\n",
       "    }\n",
       "\n",
       "    .dataframe tbody tr th {\n",
       "        vertical-align: top;\n",
       "    }\n",
       "\n",
       "    .dataframe thead th {\n",
       "        text-align: right;\n",
       "    }\n",
       "</style>\n",
       "<table border=\"1\" class=\"dataframe\">\n",
       "  <thead>\n",
       "    <tr style=\"text-align: right;\">\n",
       "      <th></th>\n",
       "      <th>Restaurant_id</th>\n",
       "      <th>Rating</th>\n",
       "    </tr>\n",
       "  </thead>\n",
       "  <tbody>\n",
       "    <tr>\n",
       "      <th>0</th>\n",
       "      <td>id_0</td>\n",
       "      <td>2.0</td>\n",
       "    </tr>\n",
       "    <tr>\n",
       "      <th>1</th>\n",
       "      <td>id_1</td>\n",
       "      <td>2.5</td>\n",
       "    </tr>\n",
       "    <tr>\n",
       "      <th>2</th>\n",
       "      <td>id_2</td>\n",
       "      <td>4.0</td>\n",
       "    </tr>\n",
       "    <tr>\n",
       "      <th>3</th>\n",
       "      <td>id_3</td>\n",
       "      <td>1.0</td>\n",
       "    </tr>\n",
       "    <tr>\n",
       "      <th>4</th>\n",
       "      <td>id_4</td>\n",
       "      <td>4.0</td>\n",
       "    </tr>\n",
       "    <tr>\n",
       "      <th>...</th>\n",
       "      <td>...</td>\n",
       "      <td>...</td>\n",
       "    </tr>\n",
       "    <tr>\n",
       "      <th>9995</th>\n",
       "      <td>id_9995</td>\n",
       "      <td>3.0</td>\n",
       "    </tr>\n",
       "    <tr>\n",
       "      <th>9996</th>\n",
       "      <td>id_9996</td>\n",
       "      <td>1.5</td>\n",
       "    </tr>\n",
       "    <tr>\n",
       "      <th>9997</th>\n",
       "      <td>id_9997</td>\n",
       "      <td>4.5</td>\n",
       "    </tr>\n",
       "    <tr>\n",
       "      <th>9998</th>\n",
       "      <td>id_9998</td>\n",
       "      <td>1.0</td>\n",
       "    </tr>\n",
       "    <tr>\n",
       "      <th>9999</th>\n",
       "      <td>id_9999</td>\n",
       "      <td>2.5</td>\n",
       "    </tr>\n",
       "  </tbody>\n",
       "</table>\n",
       "<p>10000 rows × 2 columns</p>\n",
       "</div>"
      ],
      "text/plain": [
       "     Restaurant_id  Rating\n",
       "0             id_0     2.0\n",
       "1             id_1     2.5\n",
       "2             id_2     4.0\n",
       "3             id_3     1.0\n",
       "4             id_4     4.0\n",
       "...            ...     ...\n",
       "9995       id_9995     3.0\n",
       "9996       id_9996     1.5\n",
       "9997       id_9997     4.5\n",
       "9998       id_9998     1.0\n",
       "9999       id_9999     2.5\n",
       "\n",
       "[10000 rows x 2 columns]"
      ]
     },
     "execution_count": 72,
     "metadata": {},
     "output_type": "execute_result"
    }
   ],
   "source": [
    "sample_submission"
   ]
  },
  {
   "cell_type": "code",
   "execution_count": 73,
   "metadata": {},
   "outputs": [
    {
     "name": "stderr",
     "output_type": "stream",
     "text": [
      "[Parallel(n_jobs=4)]: Using backend ThreadingBackend with 4 concurrent workers.\n",
      "[Parallel(n_jobs=4)]: Done  42 tasks      | elapsed:    0.1s\n",
      "[Parallel(n_jobs=4)]: Done 100 out of 100 | elapsed:    0.2s finished\n"
     ]
    },
    {
     "data": {
      "text/plain": [
       "array([3.155, 4.215, 4.255, ..., 2.97 , 4.49 , 4.22 ])"
      ]
     },
     "execution_count": 73,
     "metadata": {},
     "output_type": "execute_result"
    }
   ],
   "source": [
    "model.predict(test_data_1)"
   ]
  },
  {
   "cell_type": "code",
   "execution_count": 74,
   "metadata": {},
   "outputs": [
    {
     "name": "stderr",
     "output_type": "stream",
     "text": [
      "[Parallel(n_jobs=4)]: Using backend ThreadingBackend with 4 concurrent workers.\n",
      "[Parallel(n_jobs=4)]: Done  42 tasks      | elapsed:    0.1s\n",
      "[Parallel(n_jobs=4)]: Done 100 out of 100 | elapsed:    0.2s finished\n"
     ]
    }
   ],
   "source": [
    "predict_submission = np.array(list(map(lambda x: round(x*2)/2, model.predict(test_data_1))))"
   ]
  },
  {
   "cell_type": "code",
   "execution_count": 75,
   "metadata": {},
   "outputs": [
    {
     "data": {
      "text/plain": [
       "array([3. , 4. , 4.5, ..., 3. , 4.5, 4. ])"
      ]
     },
     "execution_count": 75,
     "metadata": {},
     "output_type": "execute_result"
    }
   ],
   "source": [
    "predict_submission"
   ]
  },
  {
   "cell_type": "code",
   "execution_count": 76,
   "metadata": {},
   "outputs": [
    {
     "data": {
      "text/html": [
       "<div>\n",
       "<style scoped>\n",
       "    .dataframe tbody tr th:only-of-type {\n",
       "        vertical-align: middle;\n",
       "    }\n",
       "\n",
       "    .dataframe tbody tr th {\n",
       "        vertical-align: top;\n",
       "    }\n",
       "\n",
       "    .dataframe thead th {\n",
       "        text-align: right;\n",
       "    }\n",
       "</style>\n",
       "<table border=\"1\" class=\"dataframe\">\n",
       "  <thead>\n",
       "    <tr style=\"text-align: right;\">\n",
       "      <th></th>\n",
       "      <th>Restaurant_id</th>\n",
       "      <th>Rating</th>\n",
       "    </tr>\n",
       "  </thead>\n",
       "  <tbody>\n",
       "    <tr>\n",
       "      <th>0</th>\n",
       "      <td>id_0</td>\n",
       "      <td>3.0</td>\n",
       "    </tr>\n",
       "    <tr>\n",
       "      <th>1</th>\n",
       "      <td>id_1</td>\n",
       "      <td>4.0</td>\n",
       "    </tr>\n",
       "    <tr>\n",
       "      <th>2</th>\n",
       "      <td>id_2</td>\n",
       "      <td>4.5</td>\n",
       "    </tr>\n",
       "    <tr>\n",
       "      <th>3</th>\n",
       "      <td>id_3</td>\n",
       "      <td>4.5</td>\n",
       "    </tr>\n",
       "    <tr>\n",
       "      <th>4</th>\n",
       "      <td>id_4</td>\n",
       "      <td>4.5</td>\n",
       "    </tr>\n",
       "    <tr>\n",
       "      <th>5</th>\n",
       "      <td>id_5</td>\n",
       "      <td>4.5</td>\n",
       "    </tr>\n",
       "    <tr>\n",
       "      <th>6</th>\n",
       "      <td>id_6</td>\n",
       "      <td>2.5</td>\n",
       "    </tr>\n",
       "    <tr>\n",
       "      <th>7</th>\n",
       "      <td>id_7</td>\n",
       "      <td>3.0</td>\n",
       "    </tr>\n",
       "    <tr>\n",
       "      <th>8</th>\n",
       "      <td>id_8</td>\n",
       "      <td>4.5</td>\n",
       "    </tr>\n",
       "    <tr>\n",
       "      <th>9</th>\n",
       "      <td>id_9</td>\n",
       "      <td>4.5</td>\n",
       "    </tr>\n",
       "  </tbody>\n",
       "</table>\n",
       "</div>"
      ],
      "text/plain": [
       "  Restaurant_id  Rating\n",
       "0          id_0     3.0\n",
       "1          id_1     4.0\n",
       "2          id_2     4.5\n",
       "3          id_3     4.5\n",
       "4          id_4     4.5\n",
       "5          id_5     4.5\n",
       "6          id_6     2.5\n",
       "7          id_7     3.0\n",
       "8          id_8     4.5\n",
       "9          id_9     4.5"
      ]
     },
     "execution_count": 76,
     "metadata": {},
     "output_type": "execute_result"
    }
   ],
   "source": [
    "sample_submission['Rating'] = predict_submission\n",
    "sample_submission.to_csv(data_path+'submission.csv', index=False)\n",
    "sample_submission.head(10)"
   ]
  },
  {
   "cell_type": "code",
   "execution_count": null,
   "metadata": {},
   "outputs": [],
   "source": []
  }
 ],
 "metadata": {
  "colab": {
   "authorship_tag": "ABX9TyNNGKJRtpg2dzIpf6QHRjtU",
   "collapsed_sections": [],
   "machine_shape": "hm",
   "name": "RealDS Module 1 Cuisines Kaggle_2.ipynb",
   "provenance": [
    {
     "file_id": "1_vTFiejUzx5cyncbUbReIizOCdX9-TzO",
     "timestamp": 1579007695769
    }
   ]
  },
  "kernelspec": {
   "display_name": "Python 3",
   "language": "python",
   "name": "python3"
  },
  "language_info": {
   "codemirror_mode": {
    "name": "ipython",
    "version": 3
   },
   "file_extension": ".py",
   "mimetype": "text/x-python",
   "name": "python",
   "nbconvert_exporter": "python",
   "pygments_lexer": "ipython3",
   "version": "3.7.5"
  }
 },
 "nbformat": 4,
 "nbformat_minor": 1
}
