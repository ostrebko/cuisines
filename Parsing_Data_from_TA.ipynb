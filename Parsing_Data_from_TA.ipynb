{
 "cells": [
  {
   "cell_type": "code",
   "execution_count": 1,
   "metadata": {},
   "outputs": [],
   "source": [
    "import pandas as pd\n",
    "import numpy as np\n",
    "import re\n",
    "import requests #Основная библиотека для отправки http запросов. \n",
    "from bs4 import BeautifulSoup\n",
    "import time\n",
    "\n",
    "%matplotlib inline\n",
    "import matplotlib.pyplot as plt\n",
    "import seaborn as sns # библиотека для визуализации статистических данных\n",
    "\n",
    "# Указать путь размещения файлов main_task.csv, kaggle_task.csv, sample_submission.csv\n",
    "data_path = 'Data/'\n",
    "\n",
    "df_train=pd.read_csv(data_path+'main_task.csv')\n",
    "df_test=pd.read_csv(data_path+'kaggle_task.csv')\n",
    "sample_submission = pd.read_csv(data_path+'sample_submission.csv')"
   ]
  },
  {
   "cell_type": "code",
   "execution_count": 3,
   "metadata": {},
   "outputs": [],
   "source": [
    "# всегда фиксируйте RANDOM_SEED, чтобы ваши эксперименты были воспроизводимы!\n",
    "RANDOM_SEED = 42"
   ]
  },
  {
   "cell_type": "code",
   "execution_count": 4,
   "metadata": {},
   "outputs": [],
   "source": [
    "# ВАЖНО! дря корректной обработки признаков объединяем трейн и тест в один датасет\n",
    "df_train['sample'] = 1 # помечаем где у нас трейн\n",
    "df_test['sample'] = 0 # помечаем где у нас тест\n",
    "df_test['Rating'] = 0 # в тесте у нас нет значения Rating, мы его должны предсказать, по этому пока просто заполняем нулями\n",
    "\n",
    "data = df_test.append(df_train, sort=False).reset_index(drop=True) # объединяем"
   ]
  },
  {
   "cell_type": "code",
   "execution_count": 5,
   "metadata": {},
   "outputs": [
    {
     "data": {
      "text/plain": [
       "'/Restaurant_Review-g274887-d2171461-Reviews-Claro_Bistro-Budapest_Central_Hungary.html'"
      ]
     },
     "execution_count": 5,
     "metadata": {},
     "output_type": "execute_result"
    }
   ],
   "source": [
    "# Часть ссылки из датафрейма\n",
    "data['URL_TA'][10489]"
   ]
  },
  {
   "cell_type": "code",
   "execution_count": 6,
   "metadata": {},
   "outputs": [
    {
     "data": {
      "text/plain": [
       "'https://www.tripadvisor.ru/Restaurant_Review-g274887-d2171461-Reviews-Claro_Bistro-Budapest_Central_Hungary.html'"
      ]
     },
     "execution_count": 6,
     "metadata": {},
     "output_type": "execute_result"
    }
   ],
   "source": [
    "# Создаем лист ссылок\n",
    "list_of_links = list(map(lambda x: \"https://www.tripadvisor.ru\" + x, data.loc[:, \"URL_TA\"].tolist()))\n",
    "list_of_links[10489]"
   ]
  },
  {
   "cell_type": "markdown",
   "metadata": {},
   "source": [
    "#### 2.7.1 Photo count_value on site"
   ]
  },
  {
   "cell_type": "code",
   "execution_count": 7,
   "metadata": {},
   "outputs": [
    {
     "data": {
      "text/plain": [
       "'60'"
      ]
     },
     "execution_count": 7,
     "metadata": {},
     "output_type": "execute_result"
    }
   ],
   "source": [
    "import requests #Основная библиотека для отправки http запросов. \n",
    "from bs4 import BeautifulSoup\n",
    "r = requests.get('https://www.tripadvisor.ru' + data['URL_TA'][10489])\n",
    "soup = BeautifulSoup(r.text)\n",
    "count_photo_text = soup.select_one('.details').text\n",
    "\n",
    "pattern_numb = re.compile('\\d+')\n",
    "pattern_numb.findall(count_photo_text)[0]"
   ]
  },
  {
   "cell_type": "code",
   "execution_count": 37,
   "metadata": {},
   "outputs": [
    {
     "data": {
      "text/plain": [
       "90"
      ]
     },
     "execution_count": 37,
     "metadata": {},
     "output_type": "execute_result"
    }
   ],
   "source": [
    "# Парсим страницы с Tripadvisor - смотрим количество фоток на странице\n",
    "# требует доработки - выбор большего количества данных\n",
    "pattern_numb = re.compile('\\d+')\n",
    "def numb_of_photos(index_link, link):\n",
    "    r = requests.get(link)\n",
    "    soup = BeautifulSoup(r.text)\n",
    "    if str(soup.select_one('.details')) == 'None':\n",
    "        file_numb = open(\"/home/ostrebko/RealDS/Module_1/Data/numb_of_photos.csv\", \"a\")\n",
    "        file_numb.write(str(index_link) + ',' + '0' + ',')\n",
    "        file_numb.write(link + \"\\n\")\n",
    "        file_numb.close()\n",
    "        return 0\n",
    "    else:\n",
    "        file_numb = open(\"/home/ostrebko/RealDS/Module_1/Data/numb_of_photos.csv\", \"a\")\n",
    "        file_numb.write(str(index_link) + ',' + pattern_numb.findall(soup.select_one('.details').text)[0] + ',')\n",
    "        file_numb.write(link + \"\\n\")\n",
    "        file_numb.close()\n",
    "        return int(pattern_numb.findall(soup.select_one('.details').text)[0])"
   ]
  },
  {
   "cell_type": "code",
   "execution_count": 42,
   "metadata": {},
   "outputs": [
    {
     "name": "stdout",
     "output_type": "stream",
     "text": [
      "0\n",
      "2\n",
      "4\n",
      "6\n",
      "8\n"
     ]
    }
   ],
   "source": [
    "list_numb_photos = []\n",
    "count_for_print = -1\n",
    "for link in list_of_links[0:50000]:\n",
    "    count_for_print += 1\n",
    "    if count_for_print%50 == 0:\n",
    "        time.sleep(5)\n",
    "        print(count_for_print)\n",
    "    list_numb_photos.append(numb_of_photos(list_of_links.index(link), link))"
   ]
  }
 ],
 "metadata": {
  "kernelspec": {
   "display_name": "Python 3",
   "language": "python",
   "name": "python3"
  },
  "language_info": {
   "codemirror_mode": {
    "name": "ipython",
    "version": 3
   },
   "file_extension": ".py",
   "mimetype": "text/x-python",
   "name": "python",
   "nbconvert_exporter": "python",
   "pygments_lexer": "ipython3",
   "version": "3.7.5"
  }
 },
 "nbformat": 4,
 "nbformat_minor": 4
}
